{
 "cells": [
  {
   "cell_type": "markdown",
   "metadata": {},
   "source": [
    "## Goal: Build a Beer Recommendation System \n",
    "ref: http://nbviewer.jupyter.org/gist/glamp/20a18d52c539b87de2af"
   ]
  },
  {
   "cell_type": "code",
   "execution_count": 1,
   "metadata": {
    "collapsed": false
   },
   "outputs": [
    {
     "name": "stderr",
     "output_type": "stream",
     "text": [
      "/Users/yuchengtsai/anaconda/lib/python2.7/site-packages/matplotlib/font_manager.py:273: UserWarning: Matplotlib is building the font cache using fc-list. This may take a moment.\n",
      "  warnings.warn('Matplotlib is building the font cache using fc-list. This may take a moment.')\n"
     ]
    }
   ],
   "source": [
    "import pandas as pd\n",
    "import numpy as np\n",
    "import pylab as pl"
   ]
  },
  {
   "cell_type": "code",
   "execution_count": 2,
   "metadata": {
    "collapsed": false
   },
   "outputs": [],
   "source": [
    "#%%sh\n",
    "#tar xvf ~/Documents/HarvardCS109/beer_reviews.tar.gz"
   ]
  },
  {
   "cell_type": "code",
   "execution_count": 3,
   "metadata": {
    "collapsed": false
   },
   "outputs": [
    {
     "data": {
      "text/html": [
       "<div>\n",
       "<table border=\"1\" class=\"dataframe\">\n",
       "  <thead>\n",
       "    <tr style=\"text-align: right;\">\n",
       "      <th></th>\n",
       "      <th>brewery_id</th>\n",
       "      <th>brewery_name</th>\n",
       "      <th>review_time</th>\n",
       "      <th>review_overall</th>\n",
       "      <th>review_aroma</th>\n",
       "      <th>review_appearance</th>\n",
       "      <th>review_profilename</th>\n",
       "      <th>beer_style</th>\n",
       "      <th>review_palate</th>\n",
       "      <th>review_taste</th>\n",
       "      <th>beer_name</th>\n",
       "      <th>beer_abv</th>\n",
       "      <th>beer_beerid</th>\n",
       "    </tr>\n",
       "  </thead>\n",
       "  <tbody>\n",
       "    <tr>\n",
       "      <th>0</th>\n",
       "      <td>10325</td>\n",
       "      <td>Vecchio Birraio</td>\n",
       "      <td>1234817823</td>\n",
       "      <td>1.5</td>\n",
       "      <td>2.0</td>\n",
       "      <td>2.5</td>\n",
       "      <td>stcules</td>\n",
       "      <td>Hefeweizen</td>\n",
       "      <td>1.5</td>\n",
       "      <td>1.5</td>\n",
       "      <td>Sausa Weizen</td>\n",
       "      <td>5.0</td>\n",
       "      <td>47986</td>\n",
       "    </tr>\n",
       "    <tr>\n",
       "      <th>1</th>\n",
       "      <td>10325</td>\n",
       "      <td>Vecchio Birraio</td>\n",
       "      <td>1235915097</td>\n",
       "      <td>3.0</td>\n",
       "      <td>2.5</td>\n",
       "      <td>3.0</td>\n",
       "      <td>stcules</td>\n",
       "      <td>English Strong Ale</td>\n",
       "      <td>3.0</td>\n",
       "      <td>3.0</td>\n",
       "      <td>Red Moon</td>\n",
       "      <td>6.2</td>\n",
       "      <td>48213</td>\n",
       "    </tr>\n",
       "    <tr>\n",
       "      <th>2</th>\n",
       "      <td>10325</td>\n",
       "      <td>Vecchio Birraio</td>\n",
       "      <td>1235916604</td>\n",
       "      <td>3.0</td>\n",
       "      <td>2.5</td>\n",
       "      <td>3.0</td>\n",
       "      <td>stcules</td>\n",
       "      <td>Foreign / Export Stout</td>\n",
       "      <td>3.0</td>\n",
       "      <td>3.0</td>\n",
       "      <td>Black Horse Black Beer</td>\n",
       "      <td>6.5</td>\n",
       "      <td>48215</td>\n",
       "    </tr>\n",
       "    <tr>\n",
       "      <th>3</th>\n",
       "      <td>10325</td>\n",
       "      <td>Vecchio Birraio</td>\n",
       "      <td>1234725145</td>\n",
       "      <td>3.0</td>\n",
       "      <td>3.0</td>\n",
       "      <td>3.5</td>\n",
       "      <td>stcules</td>\n",
       "      <td>German Pilsener</td>\n",
       "      <td>2.5</td>\n",
       "      <td>3.0</td>\n",
       "      <td>Sausa Pils</td>\n",
       "      <td>5.0</td>\n",
       "      <td>47969</td>\n",
       "    </tr>\n",
       "    <tr>\n",
       "      <th>4</th>\n",
       "      <td>1075</td>\n",
       "      <td>Caldera Brewing Company</td>\n",
       "      <td>1293735206</td>\n",
       "      <td>4.0</td>\n",
       "      <td>4.5</td>\n",
       "      <td>4.0</td>\n",
       "      <td>johnmichaelsen</td>\n",
       "      <td>American Double / Imperial IPA</td>\n",
       "      <td>4.0</td>\n",
       "      <td>4.5</td>\n",
       "      <td>Cauldron DIPA</td>\n",
       "      <td>7.7</td>\n",
       "      <td>64883</td>\n",
       "    </tr>\n",
       "  </tbody>\n",
       "</table>\n",
       "</div>"
      ],
      "text/plain": [
       "   brewery_id             brewery_name  review_time  review_overall  \\\n",
       "0       10325          Vecchio Birraio   1234817823             1.5   \n",
       "1       10325          Vecchio Birraio   1235915097             3.0   \n",
       "2       10325          Vecchio Birraio   1235916604             3.0   \n",
       "3       10325          Vecchio Birraio   1234725145             3.0   \n",
       "4        1075  Caldera Brewing Company   1293735206             4.0   \n",
       "\n",
       "   review_aroma  review_appearance review_profilename  \\\n",
       "0           2.0                2.5            stcules   \n",
       "1           2.5                3.0            stcules   \n",
       "2           2.5                3.0            stcules   \n",
       "3           3.0                3.5            stcules   \n",
       "4           4.5                4.0     johnmichaelsen   \n",
       "\n",
       "                       beer_style  review_palate  review_taste  \\\n",
       "0                      Hefeweizen            1.5           1.5   \n",
       "1              English Strong Ale            3.0           3.0   \n",
       "2          Foreign / Export Stout            3.0           3.0   \n",
       "3                 German Pilsener            2.5           3.0   \n",
       "4  American Double / Imperial IPA            4.0           4.5   \n",
       "\n",
       "                beer_name  beer_abv  beer_beerid  \n",
       "0            Sausa Weizen       5.0        47986  \n",
       "1                Red Moon       6.2        48213  \n",
       "2  Black Horse Black Beer       6.5        48215  \n",
       "3              Sausa Pils       5.0        47969  \n",
       "4           Cauldron DIPA       7.7        64883  "
      ]
     },
     "execution_count": 3,
     "metadata": {},
     "output_type": "execute_result"
    }
   ],
   "source": [
    "df = pd.read_csv('/Users/yuchengtsai/Documents/HarvardCS109/beer_reviews/beer_reviews.csv')\n",
    "df.head()"
   ]
  },
  {
   "cell_type": "markdown",
   "metadata": {},
   "source": [
    "## Finding People Who Have Reviewed 2 Beers"
   ]
  },
  {
   "cell_type": "code",
   "execution_count": 4,
   "metadata": {
    "collapsed": false
   },
   "outputs": [
    {
     "name": "stdout",
     "output_type": "stream",
     "text": [
      "Users in the sameset: 499\n"
     ]
    },
    {
     "data": {
      "text/plain": [
       "['womencantsail',\n",
       " 'Marty30',\n",
       " 'Winter',\n",
       " 'Lothore',\n",
       " 'bump8628',\n",
       " 'gford217',\n",
       " 'lackenhauser',\n",
       " 'wspscott',\n",
       " 'mjurney',\n",
       " 'LiquidBread219']"
      ]
     },
     "execution_count": 4,
     "metadata": {},
     "output_type": "execute_result"
    }
   ],
   "source": [
    "beer_1,beer_2=\"Dale's Pale Ale\",\"Fat Tire Amber Ale\"\n",
    "beer_1_reviewers = df[df['beer_name']==beer_1]['review_profilename'].unique()\n",
    "beer_2_reviewers = df[df['beer_name']==beer_2]['review_profilename'].unique()\n",
    "common_reviewers =set(beer_1_reviewers).intersection(beer_2_reviewers)\n",
    "print 'Users in the sameset: %d' %len(common_reviewers)\n",
    "list(common_reviewers)[:10]"
   ]
  },
  {
   "cell_type": "markdown",
   "metadata": {},
   "source": [
    "## Extracting Reviews"
   ]
  },
  {
   "cell_type": "code",
   "execution_count": 5,
   "metadata": {
    "collapsed": false
   },
   "outputs": [
    {
     "name": "stderr",
     "output_type": "stream",
     "text": [
      "/Users/yuchengtsai/anaconda/lib/python2.7/site-packages/ipykernel/__main__.py:3: FutureWarning: sort(columns=....) is deprecated, use sort_values(by=.....)\n",
      "  app.launch_new_instance()\n"
     ]
    },
    {
     "data": {
      "text/html": [
       "<div>\n",
       "<table border=\"1\" class=\"dataframe\">\n",
       "  <thead>\n",
       "    <tr style=\"text-align: right;\">\n",
       "      <th></th>\n",
       "      <th>beer_name</th>\n",
       "      <th>review_profilename</th>\n",
       "      <th>review_overall</th>\n",
       "      <th>review_aroma</th>\n",
       "      <th>review_palate</th>\n",
       "      <th>review_taste</th>\n",
       "    </tr>\n",
       "  </thead>\n",
       "  <tbody>\n",
       "    <tr>\n",
       "      <th>202456</th>\n",
       "      <td>Fat Tire Amber Ale</td>\n",
       "      <td>ATPete</td>\n",
       "      <td>4.5</td>\n",
       "      <td>4.0</td>\n",
       "      <td>4.0</td>\n",
       "      <td>4.5</td>\n",
       "    </tr>\n",
       "    <tr>\n",
       "      <th>201458</th>\n",
       "      <td>Fat Tire Amber Ale</td>\n",
       "      <td>AdamBear</td>\n",
       "      <td>3.5</td>\n",
       "      <td>2.5</td>\n",
       "      <td>4.5</td>\n",
       "      <td>3.5</td>\n",
       "    </tr>\n",
       "    <tr>\n",
       "      <th>201886</th>\n",
       "      <td>Fat Tire Amber Ale</td>\n",
       "      <td>AlCaponeJunior</td>\n",
       "      <td>2.0</td>\n",
       "      <td>3.0</td>\n",
       "      <td>3.5</td>\n",
       "      <td>3.0</td>\n",
       "    </tr>\n",
       "    <tr>\n",
       "      <th>202481</th>\n",
       "      <td>Fat Tire Amber Ale</td>\n",
       "      <td>AltBock</td>\n",
       "      <td>4.0</td>\n",
       "      <td>3.0</td>\n",
       "      <td>3.0</td>\n",
       "      <td>3.0</td>\n",
       "    </tr>\n",
       "    <tr>\n",
       "      <th>201803</th>\n",
       "      <td>Fat Tire Amber Ale</td>\n",
       "      <td>Andreji</td>\n",
       "      <td>4.0</td>\n",
       "      <td>4.5</td>\n",
       "      <td>4.0</td>\n",
       "      <td>4.0</td>\n",
       "    </tr>\n",
       "  </tbody>\n",
       "</table>\n",
       "</div>"
      ],
      "text/plain": [
       "                 beer_name review_profilename  review_overall  review_aroma  \\\n",
       "202456  Fat Tire Amber Ale             ATPete             4.5           4.0   \n",
       "201458  Fat Tire Amber Ale           AdamBear             3.5           2.5   \n",
       "201886  Fat Tire Amber Ale     AlCaponeJunior             2.0           3.0   \n",
       "202481  Fat Tire Amber Ale            AltBock             4.0           3.0   \n",
       "201803  Fat Tire Amber Ale            Andreji             4.0           4.5   \n",
       "\n",
       "        review_palate  review_taste  \n",
       "202456            4.0           4.5  \n",
       "201458            4.5           3.5  \n",
       "201886            3.5           3.0  \n",
       "202481            3.0           3.0  \n",
       "201803            4.0           4.0  "
      ]
     },
     "execution_count": 5,
     "metadata": {},
     "output_type": "execute_result"
    }
   ],
   "source": [
    "def get_beer_reviews(beer,common_users):\n",
    "    mask =(df['review_profilename'].isin(common_users))&(df['beer_name']==beer)\n",
    "    reviews = df[mask].sort('review_profilename')\n",
    "    reviews = reviews[reviews['review_profilename'].duplicated()==False]\n",
    "    return reviews\n",
    "beer_1_reviews = get_beer_reviews(beer_1,common_reviewers)\n",
    "beer_2_reviews = get_beer_reviews(beer_2,common_reviewers)\n",
    "\n",
    "cols =['beer_name','review_profilename','review_overall','review_aroma','review_palate','review_taste']\n",
    "beer_2_reviews[cols].head()    "
   ]
  },
  {
   "cell_type": "markdown",
   "metadata": {},
   "source": [
    "## Calculating Distance"
   ]
  },
  {
   "cell_type": "code",
   "execution_count": 6,
   "metadata": {
    "collapsed": false
   },
   "outputs": [
    {
     "name": "stderr",
     "output_type": "stream",
     "text": [
      "/Users/yuchengtsai/anaconda/lib/python2.7/site-packages/ipykernel/__main__.py:3: FutureWarning: sort(columns=....) is deprecated, use sort_values(by=.....)\n",
      "  app.launch_new_instance()\n"
     ]
    },
    {
     "data": {
      "text/plain": [
       "[17.4928556845359, 17.284386017443605, 16.545392107774298, 17.592612085759182]"
      ]
     },
     "execution_count": 6,
     "metadata": {},
     "output_type": "execute_result"
    }
   ],
   "source": [
    "# choose your own way to calculate distance\n",
    "from sklearn.metrics.pairwise import euclidean_distances\n",
    "from sklearn.metrics.pairwise import manhattan_distances\n",
    "from scipy.stats.stats import pearsonr\n",
    "\n",
    "ALL_FEATURES = ['review_overall', 'review_aroma', 'review_palate', 'review_taste']\n",
    "def calculate_similarity(beer1, beer2):\n",
    "    # find common reviewers\n",
    "    beer_1_reviewers = df[df.beer_name==beer1].review_profilename.unique()\n",
    "    beer_2_reviewers = df[df.beer_name==beer2].review_profilename.unique()\n",
    "    common_reviewers = set(beer_1_reviewers).intersection(beer_2_reviewers)\n",
    "\n",
    "    # get reviews\n",
    "    beer_1_reviews = get_beer_reviews(beer1, common_reviewers)\n",
    "    beer_2_reviews = get_beer_reviews(beer2, common_reviewers)\n",
    "    dists = []\n",
    "    for f in ALL_FEATURES:\n",
    "        dists.append(euclidean_distances(beer_1_reviews[f].reshape(1,-1), beer_2_reviews[f].reshape(1,-1))[0][0])\n",
    "    \n",
    "    return dists\n",
    "\n",
    "calculate_similarity(beer_1, beer_2)"
   ]
  },
  {
   "cell_type": "markdown",
   "metadata": {},
   "source": [
    "## Calculate the Similarity for a Set of Beers"
   ]
  },
  {
   "cell_type": "code",
   "execution_count": 7,
   "metadata": {
    "collapsed": false
   },
   "outputs": [
    {
     "name": "stdout",
     "output_type": "stream",
     "text": [
      "starting Dale's Pale Ale\n"
     ]
    },
    {
     "name": "stderr",
     "output_type": "stream",
     "text": [
      "/Users/yuchengtsai/anaconda/lib/python2.7/site-packages/ipykernel/__main__.py:3: FutureWarning: sort(columns=....) is deprecated, use sort_values(by=.....)\n",
      "  app.launch_new_instance()\n"
     ]
    },
    {
     "name": "stdout",
     "output_type": "stream",
     "text": [
      "starting Sierra Nevada Pale Ale\n",
      "starting Michelob Ultra\n",
      "starting Natural Light\n",
      "starting Bud Light\n",
      "starting Fat Tire Amber Ale\n",
      "starting Coors Light\n",
      "starting Blue Moon Belgian White\n",
      "starting 60 Minute IPA\n",
      "starting Guinness Draught\n"
     ]
    }
   ],
   "source": [
    "# calculate only a subset for the demo\n",
    "beers = [\"Dale's Pale Ale\", \"Sierra Nevada Pale Ale\", \"Michelob Ultra\",\n",
    "         \"Natural Light\", \"Bud Light\", \"Fat Tire Amber Ale\", \"Coors Light\",\n",
    "         \"Blue Moon Belgian White\", \"60 Minute IPA\", \"Guinness Draught\"]\n",
    "# calculate everything for real production\n",
    "# beers = df['beer_name'].unique()\n",
    "\n",
    "simple_distances = []\n",
    "for beer1 in beers:\n",
    "    print \"starting\", beer1\n",
    "    for beer2 in beers:\n",
    "        if beer1 != beer2:\n",
    "            row = [beer1, beer2] + calculate_similarity(beer1, beer2)\n",
    "            simple_distances.append(row)"
   ]
  },
  {
   "cell_type": "markdown",
   "metadata": {},
   "source": [
    "## Inspect the Results"
   ]
  },
  {
   "cell_type": "code",
   "execution_count": 8,
   "metadata": {
    "collapsed": false
   },
   "outputs": [
    {
     "data": {
      "text/html": [
       "<div>\n",
       "<table border=\"1\" class=\"dataframe\">\n",
       "  <thead>\n",
       "    <tr style=\"text-align: right;\">\n",
       "      <th></th>\n",
       "      <th>beer1</th>\n",
       "      <th>beer2</th>\n",
       "      <th>overall_dist</th>\n",
       "      <th>aroma_dist</th>\n",
       "      <th>palate_dist</th>\n",
       "      <th>taste_dist</th>\n",
       "    </tr>\n",
       "  </thead>\n",
       "  <tbody>\n",
       "    <tr>\n",
       "      <th>85</th>\n",
       "      <td>Guinness Draught</td>\n",
       "      <td>Bud Light</td>\n",
       "      <td>43.854874</td>\n",
       "      <td>42.388088</td>\n",
       "      <td>45.694639</td>\n",
       "      <td>44.516851</td>\n",
       "    </tr>\n",
       "    <tr>\n",
       "      <th>86</th>\n",
       "      <td>Guinness Draught</td>\n",
       "      <td>Fat Tire Amber Ale</td>\n",
       "      <td>23.611438</td>\n",
       "      <td>21.095023</td>\n",
       "      <td>24.591665</td>\n",
       "      <td>22.632941</td>\n",
       "    </tr>\n",
       "    <tr>\n",
       "      <th>87</th>\n",
       "      <td>Guinness Draught</td>\n",
       "      <td>Coors Light</td>\n",
       "      <td>41.249242</td>\n",
       "      <td>38.337319</td>\n",
       "      <td>43.182751</td>\n",
       "      <td>40.416581</td>\n",
       "    </tr>\n",
       "    <tr>\n",
       "      <th>88</th>\n",
       "      <td>Guinness Draught</td>\n",
       "      <td>Blue Moon Belgian White</td>\n",
       "      <td>27.285527</td>\n",
       "      <td>22.169799</td>\n",
       "      <td>25.475478</td>\n",
       "      <td>23.780244</td>\n",
       "    </tr>\n",
       "    <tr>\n",
       "      <th>89</th>\n",
       "      <td>Guinness Draught</td>\n",
       "      <td>60 Minute IPA</td>\n",
       "      <td>31.200962</td>\n",
       "      <td>32.638168</td>\n",
       "      <td>32.190837</td>\n",
       "      <td>34.452866</td>\n",
       "    </tr>\n",
       "  </tbody>\n",
       "</table>\n",
       "</div>"
      ],
      "text/plain": [
       "               beer1                    beer2  overall_dist  aroma_dist  \\\n",
       "85  Guinness Draught                Bud Light     43.854874   42.388088   \n",
       "86  Guinness Draught       Fat Tire Amber Ale     23.611438   21.095023   \n",
       "87  Guinness Draught              Coors Light     41.249242   38.337319   \n",
       "88  Guinness Draught  Blue Moon Belgian White     27.285527   22.169799   \n",
       "89  Guinness Draught            60 Minute IPA     31.200962   32.638168   \n",
       "\n",
       "    palate_dist  taste_dist  \n",
       "85    45.694639   44.516851  \n",
       "86    24.591665   22.632941  \n",
       "87    43.182751   40.416581  \n",
       "88    25.475478   23.780244  \n",
       "89    32.190837   34.452866  "
      ]
     },
     "execution_count": 8,
     "metadata": {},
     "output_type": "execute_result"
    }
   ],
   "source": [
    "cols = ['beer1','beer2','overall_dist','aroma_dist','palate_dist','taste_dist']\n",
    "simple_distances=pd.DataFrame(simple_distances,columns=cols)\n",
    "simple_distances.tail()"
   ]
  },
  {
   "cell_type": "markdown",
   "metadata": {},
   "source": [
    "## Allow the User to Customize the Weights"
   ]
  },
  {
   "cell_type": "code",
   "execution_count": 9,
   "metadata": {
    "collapsed": false
   },
   "outputs": [
    {
     "name": "stdout",
     "output_type": "stream",
     "text": [
      "86.40810158\n",
      "153.015290307\n"
     ]
    }
   ],
   "source": [
    "def calc_distance(dists,beer1,beer2,weights):\n",
    "    mask = (dists['beer1']==beer1) & (dists['beer2']==beer2)\n",
    "    row = dists[mask]\n",
    "    row = row[['overall_dist','aroma_dist','palate_dist','taste_dist']]\n",
    "    dist = weights*row\n",
    "    return dist.sum(axis=1).tolist()[0]\n",
    "\n",
    "weights = [2,1,1,1]\n",
    "print calc_distance(simple_distances,'Fat Tire Amber Ale',\"Dale's Pale Ale\",weights)\n",
    "print calc_distance(simple_distances,'Fat Tire Amber Ale',\"Michelob Ultra\",weights)"
   ]
  },
  {
   "cell_type": "markdown",
   "metadata": {},
   "source": [
    "## Find Similar Beers for Coors Light"
   ]
  },
  {
   "cell_type": "code",
   "execution_count": 10,
   "metadata": {
    "collapsed": false
   },
   "outputs": [
    {
     "data": {
      "text/plain": [
       "[('Coors Light', 'Natural Light', 70.478656376392848),\n",
       " ('Coors Light', 'Michelob Ultra', 71.602982057228019),\n",
       " ('Coors Light', 'Bud Light', 100.01552386270659),\n",
       " ('Coors Light', 'Blue Moon Belgian White', 174.87446018739365),\n",
       " ('Coors Light', 'Fat Tire Amber Ale', 176.05661989369787),\n",
       " ('Coors Light', \"Dale's Pale Ale\", 181.03982876411666),\n",
       " ('Coors Light', 'Guinness Draught', 204.43513541000175),\n",
       " ('Coors Light', '60 Minute IPA', 233.12536459010371),\n",
       " ('Coors Light', 'Sierra Nevada Pale Ale', 255.07129256548222)]"
      ]
     },
     "execution_count": 10,
     "metadata": {},
     "output_type": "execute_result"
    }
   ],
   "source": [
    "my_beer = 'Coors Light'\n",
    "results = []\n",
    "for b in beers:\n",
    "    if my_beer!=b:\n",
    "        results.append((my_beer,b,calc_distance(simple_distances,my_beer,b,weights)))\n",
    "sorted(results, key=lambda x: x[2])"
   ]
  },
  {
   "cell_type": "code",
   "execution_count": 25,
   "metadata": {
    "collapsed": false
   },
   "outputs": [
    {
     "name": "stdout",
     "output_type": "stream",
     "text": [
      "['', '/Users/yuchengtsai/anaconda/lib/python2.7/site-packages/STEPS-2.2.0-py2.7-macosx-10.5-x86_64.egg', '/Users/yuchengtsai/anaconda/lib/python27.zip', '/Users/yuchengtsai/anaconda/lib/python2.7', '/Users/yuchengtsai/anaconda/lib/python2.7/plat-darwin', '/Users/yuchengtsai/anaconda/lib/python2.7/plat-mac', '/Users/yuchengtsai/anaconda/lib/python2.7/plat-mac/lib-scriptpackages', '/Users/yuchengtsai/anaconda/lib/python2.7/lib-tk', '/Users/yuchengtsai/anaconda/lib/python2.7/lib-old', '/Users/yuchengtsai/anaconda/lib/python2.7/lib-dynload', '/Users/yuchengtsai/.local/lib/python2.7/site-packages', '/usr/local/lib/python2.7/site-packages', '/usr/local/Cellar/numpy/1.11.1/libexec/nose/lib/python2.7/site-packages', '/Users/yuchengtsai/anaconda/lib/python2.7/site-packages/Sphinx-1.3.5-py2.7.egg', '/Users/yuchengtsai/anaconda/lib/python2.7/site-packages', '/Users/yuchengtsai/anaconda/lib/python2.7/site-packages/aeosa', '/Users/yuchengtsai/anaconda/lib/python2.7/site-packages/setuptools-20.3-py2.7.egg', '/Users/yuchengtsai/anaconda/lib/python2.7/site-packages/IPython/extensions', '/Users/yuchengtsai/.ipython', '/usr/local/lib/python2.7/site-packages', '/usr/local/lib/python2.7/site-packages', '/usr/local/lib/python2.7/site-packages', '/usr/local/lib/python2.7/site-packages', '/usr/local/lib/python2.7/site-packages', '/usr/local/lib/python2.7/site-packages', '/usr/local/lib/python2.7/', '/usr/local/lib/python2.7/']\n"
     ]
    }
   ],
   "source": [
    "import os\n",
    "import sys\n",
    "\n",
    "sys.path.append('/usr/local/lib/python2.7/')\n",
    "print sys.path"
   ]
  },
  {
   "cell_type": "code",
   "execution_count": 26,
   "metadata": {
    "collapsed": false
   },
   "outputs": [
    {
     "ename": "ImportError",
     "evalue": "cannot import name BaseModel",
     "output_type": "error",
     "traceback": [
      "\u001b[0;31m---------------------------------------------------------------------------\u001b[0m",
      "\u001b[0;31mImportError\u001b[0m                               Traceback (most recent call last)",
      "\u001b[0;32m<ipython-input-26-84aba01ee756>\u001b[0m in \u001b[0;36m<module>\u001b[0;34m()\u001b[0m\n\u001b[0;32m----> 1\u001b[0;31m \u001b[0;32mfrom\u001b[0m \u001b[0myhat\u001b[0m \u001b[0;32mimport\u001b[0m \u001b[0mYhat\u001b[0m\u001b[0;34m,\u001b[0m \u001b[0mBaseModel\u001b[0m\u001b[0;34m\u001b[0m\u001b[0m\n\u001b[0m\u001b[1;32m      2\u001b[0m \u001b[0;34m\u001b[0m\u001b[0m\n\u001b[1;32m      3\u001b[0m \u001b[0;32mclass\u001b[0m \u001b[0mBeerRec\u001b[0m\u001b[0;34m(\u001b[0m\u001b[0mBaseModel\u001b[0m\u001b[0;34m)\u001b[0m\u001b[0;34m:\u001b[0m\u001b[0;34m\u001b[0m\u001b[0m\n\u001b[1;32m      4\u001b[0m \u001b[0;34m\u001b[0m\u001b[0m\n\u001b[1;32m      5\u001b[0m     \u001b[0;32mdef\u001b[0m \u001b[0mtransform\u001b[0m\u001b[0;34m(\u001b[0m\u001b[0mself\u001b[0m\u001b[0;34m,\u001b[0m \u001b[0mraw_data\u001b[0m\u001b[0;34m)\u001b[0m\u001b[0;34m:\u001b[0m\u001b[0;34m\u001b[0m\u001b[0m\n",
      "\u001b[0;31mImportError\u001b[0m: cannot import name BaseModel"
     ]
    }
   ],
   "source": [
    "from yhat import Yhat, BaseModel\n",
    "\n",
    "class BeerRec(BaseModel):\n",
    "    \n",
    "    def transform(self, raw_data):\n",
    "        beer = raw_data['beer']\n",
    "        weights = raw_data.get(\"weights\", [1, 1, 1, 1])\n",
    "        # normalize the weights so they sum to 1.0\n",
    "        weights = [float(w) / sum(weights) for w in weights]\n",
    "        return (beer, weights)\n",
    "        \n",
    "    def predict(self, data):\n",
    "        beer, weights = data\n",
    "        results = []\n",
    "        for beer_cmp in self.beers:\n",
    "            if beer!=beer_cmp:\n",
    "                dist = calc_distance(self.simple_distances, beer, beer_cmp, weights)\n",
    "                results.append((beer, beer_cmp, dist))\n",
    "        return sorted(results, key=lambda x: x[2])"
   ]
  },
  {
   "cell_type": "code",
   "execution_count": null,
   "metadata": {
    "collapsed": true
   },
   "outputs": [],
   "source": []
  }
 ],
 "metadata": {
  "kernelspec": {
   "display_name": "Python 2",
   "language": "python",
   "name": "python2"
  },
  "language_info": {
   "codemirror_mode": {
    "name": "ipython",
    "version": 2
   },
   "file_extension": ".py",
   "mimetype": "text/x-python",
   "name": "python",
   "nbconvert_exporter": "python",
   "pygments_lexer": "ipython2",
   "version": "2.7.11"
  }
 },
 "nbformat": 4,
 "nbformat_minor": 0
}
