{
 "cells": [
  {
   "cell_type": "markdown",
   "metadata": {},
   "source": [
    "Reference:http://nbviewer.jupyter.org/github/cs109/content/blob/master/labs/lab3/lab3full.ipynb"
   ]
  },
  {
   "cell_type": "code",
   "execution_count": 1,
   "metadata": {
    "collapsed": false
   },
   "outputs": [
    {
     "name": "stderr",
     "output_type": "stream",
     "text": [
      "/Users/yuchengtsai/anaconda/lib/python2.7/site-packages/matplotlib/font_manager.py:273: UserWarning: Matplotlib is building the font cache using fc-list. This may take a moment.\n",
      "  warnings.warn('Matplotlib is building the font cache using fc-list. This may take a moment.')\n"
     ]
    }
   ],
   "source": [
    "%matplotlib inline\n",
    "import numpy as np\n",
    "import matplotlib.pyplot as plt\n",
    "import pandas as pd"
   ]
  },
  {
   "cell_type": "code",
   "execution_count": 4,
   "metadata": {
    "collapsed": false
   },
   "outputs": [
    {
     "name": "stdout",
     "output_type": "stream",
     "text": [
      "Collecting brewer2mpl\n",
      "  Downloading brewer2mpl-1.4.1-py2.py3-none-any.whl\n",
      "Installing collected packages: brewer2mpl\n",
      "Successfully installed brewer2mpl-1.4.1\n"
     ]
    }
   ],
   "source": [
    "!/Users/yuchengtsai/anaconda/bin/pip install brewer2mpl"
   ]
  },
  {
   "cell_type": "code",
   "execution_count": 5,
   "metadata": {
    "collapsed": false
   },
   "outputs": [
    {
     "name": "stderr",
     "output_type": "stream",
     "text": [
      "/Users/yuchengtsai/anaconda/lib/python2.7/site-packages/matplotlib/__init__.py:872: UserWarning: axes.color_cycle is deprecated and replaced with axes.prop_cycle; please use the latter.\n",
      "  warnings.warn(self.msg_depr % (key, alt_key))\n"
     ]
    }
   ],
   "source": [
    "import brewer2mpl\n",
    "from matplotlib import rcParams\n",
    "\n",
    "#colorbrewer2 Dark2 qualitative color table\n",
    "dark2_cmap = brewer2mpl.get_map('Dark2', 'Qualitative', 7)\n",
    "dark2_colors = dark2_cmap.mpl_colors\n",
    "\n",
    "rcParams['figure.figsize'] = (10, 6)\n",
    "rcParams['figure.dpi'] = 150\n",
    "rcParams['axes.color_cycle'] = dark2_colors\n",
    "rcParams['lines.linewidth'] = 2\n",
    "rcParams['axes.facecolor'] = 'white'\n",
    "rcParams['font.size'] = 14\n",
    "rcParams['patch.edgecolor'] = 'white'\n",
    "rcParams['patch.facecolor'] = dark2_colors[0]\n",
    "rcParams['font.family'] = 'StixGeneral'\n",
    "\n",
    "\n",
    "def remove_border(axes=None, top=False, right=False, left=True, bottom=True):\n",
    "    \"\"\"\n",
    "    Minimize chartjunk by stripping out unnecesasry plot borders and axis ticks\n",
    "    \n",
    "    The top/right/left/bottom keywords toggle whether the corresponding plot border is drawn\n",
    "    \"\"\"\n",
    "    ax = axes or plt.gca()\n",
    "    ax.spines['top'].set_visible(top)\n",
    "    ax.spines['right'].set_visible(right)\n",
    "    ax.spines['left'].set_visible(left)\n",
    "    ax.spines['bottom'].set_visible(bottom)\n",
    "    \n",
    "    #turn off all ticks\n",
    "    ax.yaxis.set_ticks_position('none')\n",
    "    ax.xaxis.set_ticks_position('none')\n",
    "    \n",
    "    #now re-enable visibles\n",
    "    if top:\n",
    "        ax.xaxis.tick_top()\n",
    "    if bottom:\n",
    "        ax.xaxis.tick_bottom()\n",
    "    if left:\n",
    "        ax.yaxis.tick_left()\n",
    "    if right:\n",
    "        ax.yaxis.tick_right()"
   ]
  },
  {
   "cell_type": "code",
   "execution_count": 7,
   "metadata": {
    "collapsed": false
   },
   "outputs": [],
   "source": [
    "pd.set_option('display.width',500)\n",
    "pd.set_option('display.max_columns',100)"
   ]
  },
  {
   "cell_type": "markdown",
   "metadata": {},
   "source": [
    "## 1. Loading and Cleaning\n",
    "Let's load the olive oil dataset into a pandas dataframe and have a look at the first 5 rows."
   ]
  },
  {
   "cell_type": "code",
   "execution_count": 21,
   "metadata": {
    "collapsed": false
   },
   "outputs": [
    {
     "data": {
      "text/html": [
       "<div>\n",
       "<table border=\"1\" class=\"dataframe\">\n",
       "  <thead>\n",
       "    <tr style=\"text-align: right;\">\n",
       "      <th></th>\n",
       "      <th>Unnamed: 0</th>\n",
       "      <th>region</th>\n",
       "      <th>area</th>\n",
       "      <th>palmitic</th>\n",
       "      <th>palmitoleic</th>\n",
       "      <th>stearic</th>\n",
       "      <th>oleic</th>\n",
       "      <th>linoleic</th>\n",
       "      <th>linolenic</th>\n",
       "      <th>arachidic</th>\n",
       "      <th>eicosenoic</th>\n",
       "    </tr>\n",
       "  </thead>\n",
       "  <tbody>\n",
       "    <tr>\n",
       "      <th>0</th>\n",
       "      <td>1.North-Apulia</td>\n",
       "      <td>1</td>\n",
       "      <td>1</td>\n",
       "      <td>1075</td>\n",
       "      <td>75</td>\n",
       "      <td>226</td>\n",
       "      <td>7823</td>\n",
       "      <td>672</td>\n",
       "      <td>36</td>\n",
       "      <td>60</td>\n",
       "      <td>29</td>\n",
       "    </tr>\n",
       "    <tr>\n",
       "      <th>1</th>\n",
       "      <td>2.North-Apulia</td>\n",
       "      <td>1</td>\n",
       "      <td>1</td>\n",
       "      <td>1088</td>\n",
       "      <td>73</td>\n",
       "      <td>224</td>\n",
       "      <td>7709</td>\n",
       "      <td>781</td>\n",
       "      <td>31</td>\n",
       "      <td>61</td>\n",
       "      <td>29</td>\n",
       "    </tr>\n",
       "    <tr>\n",
       "      <th>2</th>\n",
       "      <td>3.North-Apulia</td>\n",
       "      <td>1</td>\n",
       "      <td>1</td>\n",
       "      <td>911</td>\n",
       "      <td>54</td>\n",
       "      <td>246</td>\n",
       "      <td>8113</td>\n",
       "      <td>549</td>\n",
       "      <td>31</td>\n",
       "      <td>63</td>\n",
       "      <td>29</td>\n",
       "    </tr>\n",
       "    <tr>\n",
       "      <th>3</th>\n",
       "      <td>4.North-Apulia</td>\n",
       "      <td>1</td>\n",
       "      <td>1</td>\n",
       "      <td>966</td>\n",
       "      <td>57</td>\n",
       "      <td>240</td>\n",
       "      <td>7952</td>\n",
       "      <td>619</td>\n",
       "      <td>50</td>\n",
       "      <td>78</td>\n",
       "      <td>35</td>\n",
       "    </tr>\n",
       "    <tr>\n",
       "      <th>4</th>\n",
       "      <td>5.North-Apulia</td>\n",
       "      <td>1</td>\n",
       "      <td>1</td>\n",
       "      <td>1051</td>\n",
       "      <td>67</td>\n",
       "      <td>259</td>\n",
       "      <td>7771</td>\n",
       "      <td>672</td>\n",
       "      <td>50</td>\n",
       "      <td>80</td>\n",
       "      <td>46</td>\n",
       "    </tr>\n",
       "  </tbody>\n",
       "</table>\n",
       "</div>"
      ],
      "text/plain": [
       "       Unnamed: 0  region  area  palmitic  palmitoleic  stearic  oleic  linoleic  linolenic  arachidic  eicosenoic\n",
       "0  1.North-Apulia       1     1      1075           75      226   7823       672         36         60          29\n",
       "1  2.North-Apulia       1     1      1088           73      224   7709       781         31         61          29\n",
       "2  3.North-Apulia       1     1       911           54      246   8113       549         31         63          29\n",
       "3  4.North-Apulia       1     1       966           57      240   7952       619         50         78          35\n",
       "4  5.North-Apulia       1     1      1051           67      259   7771       672         50         80          46"
      ]
     },
     "execution_count": 21,
     "metadata": {},
     "output_type": "execute_result"
    }
   ],
   "source": [
    "df=pd.read_csv(\"olive.csv\")\n",
    "df.head(5)"
   ]
  },
  {
   "cell_type": "markdown",
   "metadata": {},
   "source": [
    "Rename the first column"
   ]
  },
  {
   "cell_type": "code",
   "execution_count": 22,
   "metadata": {
    "collapsed": false
   },
   "outputs": [
    {
     "name": "stdout",
     "output_type": "stream",
     "text": [
      "Index([u'Unnamed: 0', u'region', u'area', u'palmitic', u'palmitoleic', u'stearic', u'oleic', u'linoleic', u'linolenic', u'arachidic', u'eicosenoic'], dtype='object')\n"
     ]
    },
    {
     "data": {
      "text/plain": [
       "Index([u'areastring', u'region', u'area', u'palmitic', u'palmitoleic', u'stearic', u'oleic', u'linoleic', u'linolenic', u'arachidic', u'eicosenoic'], dtype='object')"
      ]
     },
     "execution_count": 22,
     "metadata": {},
     "output_type": "execute_result"
    }
   ],
   "source": [
    "print df.columns\n",
    "df.rename(columns={df.columns[0]:'areastring'},inplace=True)\n",
    "df.columns"
   ]
  },
  {
   "cell_type": "markdown",
   "metadata": {},
   "source": [
    "Let's explore. Which unique regions and areas are contained in the dataset?"
   ]
  },
  {
   "cell_type": "code",
   "execution_count": 23,
   "metadata": {
    "collapsed": false
   },
   "outputs": [
    {
     "name": "stdout",
     "output_type": "stream",
     "text": [
      "regins\t[1 2 3]\n",
      "areas\t[1 2 3 4 5 6 9 7 8]\n"
     ]
    }
   ],
   "source": [
    "print 'regins\\t',df.region.unique()\n",
    "print 'areas\\t',df.area.unique()"
   ]
  },
  {
   "cell_type": "markdown",
   "metadata": {},
   "source": [
    "Let's create a crosstabulation or contigency table of the factors"
   ]
  },
  {
   "cell_type": "code",
   "execution_count": 24,
   "metadata": {
    "collapsed": false
   },
   "outputs": [
    {
     "data": {
      "text/html": [
       "<div>\n",
       "<table border=\"1\" class=\"dataframe\">\n",
       "  <thead>\n",
       "    <tr style=\"text-align: right;\">\n",
       "      <th>region</th>\n",
       "      <th>1</th>\n",
       "      <th>2</th>\n",
       "      <th>3</th>\n",
       "    </tr>\n",
       "    <tr>\n",
       "      <th>area</th>\n",
       "      <th></th>\n",
       "      <th></th>\n",
       "      <th></th>\n",
       "    </tr>\n",
       "  </thead>\n",
       "  <tbody>\n",
       "    <tr>\n",
       "      <th>1</th>\n",
       "      <td>25</td>\n",
       "      <td>0</td>\n",
       "      <td>0</td>\n",
       "    </tr>\n",
       "    <tr>\n",
       "      <th>2</th>\n",
       "      <td>56</td>\n",
       "      <td>0</td>\n",
       "      <td>0</td>\n",
       "    </tr>\n",
       "    <tr>\n",
       "      <th>3</th>\n",
       "      <td>206</td>\n",
       "      <td>0</td>\n",
       "      <td>0</td>\n",
       "    </tr>\n",
       "    <tr>\n",
       "      <th>4</th>\n",
       "      <td>36</td>\n",
       "      <td>0</td>\n",
       "      <td>0</td>\n",
       "    </tr>\n",
       "    <tr>\n",
       "      <th>5</th>\n",
       "      <td>0</td>\n",
       "      <td>65</td>\n",
       "      <td>0</td>\n",
       "    </tr>\n",
       "    <tr>\n",
       "      <th>6</th>\n",
       "      <td>0</td>\n",
       "      <td>33</td>\n",
       "      <td>0</td>\n",
       "    </tr>\n",
       "    <tr>\n",
       "      <th>7</th>\n",
       "      <td>0</td>\n",
       "      <td>0</td>\n",
       "      <td>50</td>\n",
       "    </tr>\n",
       "    <tr>\n",
       "      <th>8</th>\n",
       "      <td>0</td>\n",
       "      <td>0</td>\n",
       "      <td>50</td>\n",
       "    </tr>\n",
       "    <tr>\n",
       "      <th>9</th>\n",
       "      <td>0</td>\n",
       "      <td>0</td>\n",
       "      <td>51</td>\n",
       "    </tr>\n",
       "  </tbody>\n",
       "</table>\n",
       "</div>"
      ],
      "text/plain": [
       "region    1   2   3\n",
       "area               \n",
       "1        25   0   0\n",
       "2        56   0   0\n",
       "3       206   0   0\n",
       "4        36   0   0\n",
       "5         0  65   0\n",
       "6         0  33   0\n",
       "7         0   0  50\n",
       "8         0   0  50\n",
       "9         0   0  51"
      ]
     },
     "execution_count": 24,
     "metadata": {},
     "output_type": "execute_result"
    }
   ],
   "source": [
    "pd.crosstab(df.area,df.region)"
   ]
  },
  {
   "cell_type": "markdown",
   "metadata": {},
   "source": [
    "Let's get rid of junk numbering in df.areastring."
   ]
  },
  {
   "cell_type": "code",
   "execution_count": 25,
   "metadata": {
    "collapsed": false
   },
   "outputs": [
    {
     "data": {
      "text/html": [
       "<div>\n",
       "<table border=\"1\" class=\"dataframe\">\n",
       "  <thead>\n",
       "    <tr style=\"text-align: right;\">\n",
       "      <th></th>\n",
       "      <th>areastring</th>\n",
       "      <th>region</th>\n",
       "      <th>area</th>\n",
       "      <th>palmitic</th>\n",
       "      <th>palmitoleic</th>\n",
       "      <th>stearic</th>\n",
       "      <th>oleic</th>\n",
       "      <th>linoleic</th>\n",
       "      <th>linolenic</th>\n",
       "      <th>arachidic</th>\n",
       "      <th>eicosenoic</th>\n",
       "    </tr>\n",
       "  </thead>\n",
       "  <tbody>\n",
       "    <tr>\n",
       "      <th>0</th>\n",
       "      <td>North-Apulia</td>\n",
       "      <td>1</td>\n",
       "      <td>1</td>\n",
       "      <td>1075</td>\n",
       "      <td>75</td>\n",
       "      <td>226</td>\n",
       "      <td>7823</td>\n",
       "      <td>672</td>\n",
       "      <td>36</td>\n",
       "      <td>60</td>\n",
       "      <td>29</td>\n",
       "    </tr>\n",
       "    <tr>\n",
       "      <th>1</th>\n",
       "      <td>North-Apulia</td>\n",
       "      <td>1</td>\n",
       "      <td>1</td>\n",
       "      <td>1088</td>\n",
       "      <td>73</td>\n",
       "      <td>224</td>\n",
       "      <td>7709</td>\n",
       "      <td>781</td>\n",
       "      <td>31</td>\n",
       "      <td>61</td>\n",
       "      <td>29</td>\n",
       "    </tr>\n",
       "    <tr>\n",
       "      <th>2</th>\n",
       "      <td>North-Apulia</td>\n",
       "      <td>1</td>\n",
       "      <td>1</td>\n",
       "      <td>911</td>\n",
       "      <td>54</td>\n",
       "      <td>246</td>\n",
       "      <td>8113</td>\n",
       "      <td>549</td>\n",
       "      <td>31</td>\n",
       "      <td>63</td>\n",
       "      <td>29</td>\n",
       "    </tr>\n",
       "    <tr>\n",
       "      <th>3</th>\n",
       "      <td>North-Apulia</td>\n",
       "      <td>1</td>\n",
       "      <td>1</td>\n",
       "      <td>966</td>\n",
       "      <td>57</td>\n",
       "      <td>240</td>\n",
       "      <td>7952</td>\n",
       "      <td>619</td>\n",
       "      <td>50</td>\n",
       "      <td>78</td>\n",
       "      <td>35</td>\n",
       "    </tr>\n",
       "    <tr>\n",
       "      <th>4</th>\n",
       "      <td>North-Apulia</td>\n",
       "      <td>1</td>\n",
       "      <td>1</td>\n",
       "      <td>1051</td>\n",
       "      <td>67</td>\n",
       "      <td>259</td>\n",
       "      <td>7771</td>\n",
       "      <td>672</td>\n",
       "      <td>50</td>\n",
       "      <td>80</td>\n",
       "      <td>46</td>\n",
       "    </tr>\n",
       "  </tbody>\n",
       "</table>\n",
       "</div>"
      ],
      "text/plain": [
       "     areastring  region  area  palmitic  palmitoleic  stearic  oleic  linoleic  linolenic  arachidic  eicosenoic\n",
       "0  North-Apulia       1     1      1075           75      226   7823       672         36         60          29\n",
       "1  North-Apulia       1     1      1088           73      224   7709       781         31         61          29\n",
       "2  North-Apulia       1     1       911           54      246   8113       549         31         63          29\n",
       "3  North-Apulia       1     1       966           57      240   7952       619         50         78          35\n",
       "4  North-Apulia       1     1      1051           67      259   7771       672         50         80          46"
      ]
     },
     "execution_count": 25,
     "metadata": {},
     "output_type": "execute_result"
    }
   ],
   "source": [
    "df.areastring=df.areastring.map(lambda x:x.split('.')[-1])\n",
    "df.head()"
   ]
  },
  {
   "cell_type": "markdown",
   "metadata": {},
   "source": [
    "Creata a new dataframe dfsub by taking the list of acids and using pandas's apply function to divide all values by 100."
   ]
  },
  {
   "cell_type": "code",
   "execution_count": 26,
   "metadata": {
    "collapsed": false
   },
   "outputs": [
    {
     "data": {
      "text/html": [
       "<div>\n",
       "<table border=\"1\" class=\"dataframe\">\n",
       "  <thead>\n",
       "    <tr style=\"text-align: right;\">\n",
       "      <th></th>\n",
       "      <th>palmitic</th>\n",
       "      <th>palmitoleic</th>\n",
       "      <th>stearic</th>\n",
       "      <th>oleic</th>\n",
       "      <th>linoleic</th>\n",
       "      <th>linolenic</th>\n",
       "      <th>arachidic</th>\n",
       "      <th>eicosenoic</th>\n",
       "    </tr>\n",
       "  </thead>\n",
       "  <tbody>\n",
       "    <tr>\n",
       "      <th>0</th>\n",
       "      <td>10.75</td>\n",
       "      <td>0.75</td>\n",
       "      <td>2.26</td>\n",
       "      <td>78.23</td>\n",
       "      <td>6.72</td>\n",
       "      <td>0.36</td>\n",
       "      <td>0.60</td>\n",
       "      <td>0.29</td>\n",
       "    </tr>\n",
       "    <tr>\n",
       "      <th>1</th>\n",
       "      <td>10.88</td>\n",
       "      <td>0.73</td>\n",
       "      <td>2.24</td>\n",
       "      <td>77.09</td>\n",
       "      <td>7.81</td>\n",
       "      <td>0.31</td>\n",
       "      <td>0.61</td>\n",
       "      <td>0.29</td>\n",
       "    </tr>\n",
       "    <tr>\n",
       "      <th>2</th>\n",
       "      <td>9.11</td>\n",
       "      <td>0.54</td>\n",
       "      <td>2.46</td>\n",
       "      <td>81.13</td>\n",
       "      <td>5.49</td>\n",
       "      <td>0.31</td>\n",
       "      <td>0.63</td>\n",
       "      <td>0.29</td>\n",
       "    </tr>\n",
       "    <tr>\n",
       "      <th>3</th>\n",
       "      <td>9.66</td>\n",
       "      <td>0.57</td>\n",
       "      <td>2.40</td>\n",
       "      <td>79.52</td>\n",
       "      <td>6.19</td>\n",
       "      <td>0.50</td>\n",
       "      <td>0.78</td>\n",
       "      <td>0.35</td>\n",
       "    </tr>\n",
       "    <tr>\n",
       "      <th>4</th>\n",
       "      <td>10.51</td>\n",
       "      <td>0.67</td>\n",
       "      <td>2.59</td>\n",
       "      <td>77.71</td>\n",
       "      <td>6.72</td>\n",
       "      <td>0.50</td>\n",
       "      <td>0.80</td>\n",
       "      <td>0.46</td>\n",
       "    </tr>\n",
       "  </tbody>\n",
       "</table>\n",
       "</div>"
      ],
      "text/plain": [
       "   palmitic  palmitoleic  stearic  oleic  linoleic  linolenic  arachidic  eicosenoic\n",
       "0     10.75         0.75     2.26  78.23      6.72       0.36       0.60        0.29\n",
       "1     10.88         0.73     2.24  77.09      7.81       0.31       0.61        0.29\n",
       "2      9.11         0.54     2.46  81.13      5.49       0.31       0.63        0.29\n",
       "3      9.66         0.57     2.40  79.52      6.19       0.50       0.78        0.35\n",
       "4     10.51         0.67     2.59  77.71      6.72       0.50       0.80        0.46"
      ]
     },
     "execution_count": 26,
     "metadata": {},
     "output_type": "execute_result"
    }
   ],
   "source": [
    "acidlist=['palmitic', 'palmitoleic', 'stearic', 'oleic', 'linoleic', 'linolenic', 'arachidic', 'eicosenoic']\n",
    "dfsub=df[acidlist].apply(lambda x: x/100.)\n",
    "dfsub.head()"
   ]
  },
  {
   "cell_type": "markdown",
   "metadata": {},
   "source": [
    "Replace part of the dataframe by this new dataframe."
   ]
  },
  {
   "cell_type": "code",
   "execution_count": 27,
   "metadata": {
    "collapsed": false
   },
   "outputs": [
    {
     "data": {
      "text/html": [
       "<div>\n",
       "<table border=\"1\" class=\"dataframe\">\n",
       "  <thead>\n",
       "    <tr style=\"text-align: right;\">\n",
       "      <th></th>\n",
       "      <th>areastring</th>\n",
       "      <th>region</th>\n",
       "      <th>area</th>\n",
       "      <th>palmitic</th>\n",
       "      <th>palmitoleic</th>\n",
       "      <th>stearic</th>\n",
       "      <th>oleic</th>\n",
       "      <th>linoleic</th>\n",
       "      <th>linolenic</th>\n",
       "      <th>arachidic</th>\n",
       "      <th>eicosenoic</th>\n",
       "    </tr>\n",
       "  </thead>\n",
       "  <tbody>\n",
       "    <tr>\n",
       "      <th>0</th>\n",
       "      <td>North-Apulia</td>\n",
       "      <td>1</td>\n",
       "      <td>1</td>\n",
       "      <td>10.75</td>\n",
       "      <td>0.75</td>\n",
       "      <td>2.26</td>\n",
       "      <td>78.23</td>\n",
       "      <td>6.72</td>\n",
       "      <td>0.36</td>\n",
       "      <td>0.60</td>\n",
       "      <td>0.29</td>\n",
       "    </tr>\n",
       "    <tr>\n",
       "      <th>1</th>\n",
       "      <td>North-Apulia</td>\n",
       "      <td>1</td>\n",
       "      <td>1</td>\n",
       "      <td>10.88</td>\n",
       "      <td>0.73</td>\n",
       "      <td>2.24</td>\n",
       "      <td>77.09</td>\n",
       "      <td>7.81</td>\n",
       "      <td>0.31</td>\n",
       "      <td>0.61</td>\n",
       "      <td>0.29</td>\n",
       "    </tr>\n",
       "    <tr>\n",
       "      <th>2</th>\n",
       "      <td>North-Apulia</td>\n",
       "      <td>1</td>\n",
       "      <td>1</td>\n",
       "      <td>9.11</td>\n",
       "      <td>0.54</td>\n",
       "      <td>2.46</td>\n",
       "      <td>81.13</td>\n",
       "      <td>5.49</td>\n",
       "      <td>0.31</td>\n",
       "      <td>0.63</td>\n",
       "      <td>0.29</td>\n",
       "    </tr>\n",
       "    <tr>\n",
       "      <th>3</th>\n",
       "      <td>North-Apulia</td>\n",
       "      <td>1</td>\n",
       "      <td>1</td>\n",
       "      <td>9.66</td>\n",
       "      <td>0.57</td>\n",
       "      <td>2.40</td>\n",
       "      <td>79.52</td>\n",
       "      <td>6.19</td>\n",
       "      <td>0.50</td>\n",
       "      <td>0.78</td>\n",
       "      <td>0.35</td>\n",
       "    </tr>\n",
       "    <tr>\n",
       "      <th>4</th>\n",
       "      <td>North-Apulia</td>\n",
       "      <td>1</td>\n",
       "      <td>1</td>\n",
       "      <td>10.51</td>\n",
       "      <td>0.67</td>\n",
       "      <td>2.59</td>\n",
       "      <td>77.71</td>\n",
       "      <td>6.72</td>\n",
       "      <td>0.50</td>\n",
       "      <td>0.80</td>\n",
       "      <td>0.46</td>\n",
       "    </tr>\n",
       "  </tbody>\n",
       "</table>\n",
       "</div>"
      ],
      "text/plain": [
       "     areastring  region  area  palmitic  palmitoleic  stearic  oleic  linoleic  linolenic  arachidic  eicosenoic\n",
       "0  North-Apulia       1     1     10.75         0.75     2.26  78.23      6.72       0.36       0.60        0.29\n",
       "1  North-Apulia       1     1     10.88         0.73     2.24  77.09      7.81       0.31       0.61        0.29\n",
       "2  North-Apulia       1     1      9.11         0.54     2.46  81.13      5.49       0.31       0.63        0.29\n",
       "3  North-Apulia       1     1      9.66         0.57     2.40  79.52      6.19       0.50       0.78        0.35\n",
       "4  North-Apulia       1     1     10.51         0.67     2.59  77.71      6.72       0.50       0.80        0.46"
      ]
     },
     "execution_count": 27,
     "metadata": {},
     "output_type": "execute_result"
    }
   ],
   "source": [
    "df[acidlist]=dfsub\n",
    "df.head()"
   ]
  },
  {
   "cell_type": "markdown",
   "metadata": {},
   "source": [
    "## 2. Matplotlib"
   ]
  },
  {
   "cell_type": "code",
   "execution_count": 28,
   "metadata": {
    "collapsed": false
   },
   "outputs": [
    {
     "data": {
      "image/png": "[encoded data removed]",
      "text/plain": [
       "<matplotlib.figure.Figure at 0x11260cbd0>"
      ]
     },
     "metadata": {},
     "output_type": "display_data"
    }
   ],
   "source": [
    "fig, axes = plt.subplots(figsize=(10,10),nrows=2,ncols=2)\n",
    "axes[0][0].plot(df.palmitic, df.linolenic)\n",
    "axes[0][1].plot(df.palmitic, df.linolenic, '.')\n",
    "axes[1][0].scatter(df.palmitic, df.linolenic)\n",
    "axes[1][1].hist(df.palmitic)\n",
    "fig.tight_layout()"
   ]
  },
  {
   "cell_type": "markdown",
   "metadata": {},
   "source": [
    "### Make scatterplots"
   ]
  },
  {
   "cell_type": "code",
   "execution_count": 29,
   "metadata": {
    "collapsed": false
   },
   "outputs": [
    {
     "data": {
      "image/png": "[encoded data removed]",
      "text/plain": [
       "<matplotlib.figure.Figure at 0x11260ca10>"
      ]
     },
     "metadata": {},
     "output_type": "display_data"
    }
   ],
   "source": [
    "xacids=['oleic','linolenic','eicosenoic']\n",
    "yacids=['stearic','arachidic']\n",
    "fig, axes = plt.subplots(figsize=(10,10),nrows=len(xacids),ncols=len(yacids))\n",
    "for i,xacid in enumerate(xacids):\n",
    "    for j,yacid in enumerate(yacids):\n",
    "        axes[i][j].scatter(df[xacid],df[yacid])\n",
    "        axes[i][j].set_xlabel(xacid)\n",
    "        axes[i][j].set_ylabel(yacid)\n",
    "fig.tight_layout()        "
   ]
  },
  {
   "cell_type": "markdown",
   "metadata": {},
   "source": [
    "## 3. Pandas Data Munging"
   ]
  },
  {
   "cell_type": "code",
   "execution_count": 32,
   "metadata": {
    "collapsed": false
   },
   "outputs": [
    {
     "name": "stdout",
     "output_type": "stream",
     "text": [
      "<class 'pandas.core.groupby.DataFrameGroupBy'>\n"
     ]
    },
    {
     "data": {
      "text/html": [
       "<div>\n",
       "<table border=\"1\" class=\"dataframe\">\n",
       "  <thead>\n",
       "    <tr style=\"text-align: right;\">\n",
       "      <th></th>\n",
       "      <th>areastring</th>\n",
       "      <th>region</th>\n",
       "      <th>area</th>\n",
       "      <th>palmitic</th>\n",
       "      <th>palmitoleic</th>\n",
       "      <th>stearic</th>\n",
       "      <th>oleic</th>\n",
       "      <th>linoleic</th>\n",
       "      <th>linolenic</th>\n",
       "      <th>arachidic</th>\n",
       "      <th>eicosenoic</th>\n",
       "    </tr>\n",
       "  </thead>\n",
       "  <tbody>\n",
       "    <tr>\n",
       "      <th>0</th>\n",
       "      <td>North-Apulia</td>\n",
       "      <td>1</td>\n",
       "      <td>1</td>\n",
       "      <td>10.75</td>\n",
       "      <td>0.75</td>\n",
       "      <td>2.26</td>\n",
       "      <td>78.23</td>\n",
       "      <td>6.72</td>\n",
       "      <td>0.36</td>\n",
       "      <td>0.60</td>\n",
       "      <td>0.29</td>\n",
       "    </tr>\n",
       "    <tr>\n",
       "      <th>1</th>\n",
       "      <td>North-Apulia</td>\n",
       "      <td>1</td>\n",
       "      <td>1</td>\n",
       "      <td>10.88</td>\n",
       "      <td>0.73</td>\n",
       "      <td>2.24</td>\n",
       "      <td>77.09</td>\n",
       "      <td>7.81</td>\n",
       "      <td>0.31</td>\n",
       "      <td>0.61</td>\n",
       "      <td>0.29</td>\n",
       "    </tr>\n",
       "    <tr>\n",
       "      <th>2</th>\n",
       "      <td>North-Apulia</td>\n",
       "      <td>1</td>\n",
       "      <td>1</td>\n",
       "      <td>9.11</td>\n",
       "      <td>0.54</td>\n",
       "      <td>2.46</td>\n",
       "      <td>81.13</td>\n",
       "      <td>5.49</td>\n",
       "      <td>0.31</td>\n",
       "      <td>0.63</td>\n",
       "      <td>0.29</td>\n",
       "    </tr>\n",
       "    <tr>\n",
       "      <th>3</th>\n",
       "      <td>North-Apulia</td>\n",
       "      <td>1</td>\n",
       "      <td>1</td>\n",
       "      <td>9.66</td>\n",
       "      <td>0.57</td>\n",
       "      <td>2.40</td>\n",
       "      <td>79.52</td>\n",
       "      <td>6.19</td>\n",
       "      <td>0.50</td>\n",
       "      <td>0.78</td>\n",
       "      <td>0.35</td>\n",
       "    </tr>\n",
       "    <tr>\n",
       "      <th>4</th>\n",
       "      <td>North-Apulia</td>\n",
       "      <td>1</td>\n",
       "      <td>1</td>\n",
       "      <td>10.51</td>\n",
       "      <td>0.67</td>\n",
       "      <td>2.59</td>\n",
       "      <td>77.71</td>\n",
       "      <td>6.72</td>\n",
       "      <td>0.50</td>\n",
       "      <td>0.80</td>\n",
       "      <td>0.46</td>\n",
       "    </tr>\n",
       "    <tr>\n",
       "      <th>323</th>\n",
       "      <td>Inland-Sardinia</td>\n",
       "      <td>2</td>\n",
       "      <td>5</td>\n",
       "      <td>11.29</td>\n",
       "      <td>1.20</td>\n",
       "      <td>2.22</td>\n",
       "      <td>72.72</td>\n",
       "      <td>11.12</td>\n",
       "      <td>0.43</td>\n",
       "      <td>0.98</td>\n",
       "      <td>0.02</td>\n",
       "    </tr>\n",
       "    <tr>\n",
       "      <th>324</th>\n",
       "      <td>Inland-Sardinia</td>\n",
       "      <td>2</td>\n",
       "      <td>5</td>\n",
       "      <td>10.42</td>\n",
       "      <td>1.35</td>\n",
       "      <td>2.10</td>\n",
       "      <td>73.76</td>\n",
       "      <td>11.16</td>\n",
       "      <td>0.35</td>\n",
       "      <td>0.90</td>\n",
       "      <td>0.03</td>\n",
       "    </tr>\n",
       "    <tr>\n",
       "      <th>325</th>\n",
       "      <td>Inland-Sardinia</td>\n",
       "      <td>2</td>\n",
       "      <td>5</td>\n",
       "      <td>11.03</td>\n",
       "      <td>0.96</td>\n",
       "      <td>2.10</td>\n",
       "      <td>73.80</td>\n",
       "      <td>10.85</td>\n",
       "      <td>0.32</td>\n",
       "      <td>0.94</td>\n",
       "      <td>0.03</td>\n",
       "    </tr>\n",
       "    <tr>\n",
       "      <th>326</th>\n",
       "      <td>Inland-Sardinia</td>\n",
       "      <td>2</td>\n",
       "      <td>5</td>\n",
       "      <td>11.18</td>\n",
       "      <td>0.97</td>\n",
       "      <td>2.21</td>\n",
       "      <td>72.79</td>\n",
       "      <td>11.54</td>\n",
       "      <td>0.35</td>\n",
       "      <td>0.94</td>\n",
       "      <td>0.02</td>\n",
       "    </tr>\n",
       "    <tr>\n",
       "      <th>327</th>\n",
       "      <td>Inland-Sardinia</td>\n",
       "      <td>2</td>\n",
       "      <td>5</td>\n",
       "      <td>10.52</td>\n",
       "      <td>0.95</td>\n",
       "      <td>2.15</td>\n",
       "      <td>73.88</td>\n",
       "      <td>11.26</td>\n",
       "      <td>0.31</td>\n",
       "      <td>0.92</td>\n",
       "      <td>0.01</td>\n",
       "    </tr>\n",
       "    <tr>\n",
       "      <th>421</th>\n",
       "      <td>Umbria</td>\n",
       "      <td>3</td>\n",
       "      <td>9</td>\n",
       "      <td>10.85</td>\n",
       "      <td>0.70</td>\n",
       "      <td>1.80</td>\n",
       "      <td>79.55</td>\n",
       "      <td>6.05</td>\n",
       "      <td>0.20</td>\n",
       "      <td>0.50</td>\n",
       "      <td>0.01</td>\n",
       "    </tr>\n",
       "    <tr>\n",
       "      <th>422</th>\n",
       "      <td>Umbria</td>\n",
       "      <td>3</td>\n",
       "      <td>9</td>\n",
       "      <td>10.85</td>\n",
       "      <td>0.70</td>\n",
       "      <td>1.85</td>\n",
       "      <td>79.55</td>\n",
       "      <td>6.00</td>\n",
       "      <td>0.25</td>\n",
       "      <td>0.55</td>\n",
       "      <td>0.01</td>\n",
       "    </tr>\n",
       "    <tr>\n",
       "      <th>423</th>\n",
       "      <td>Umbria</td>\n",
       "      <td>3</td>\n",
       "      <td>9</td>\n",
       "      <td>10.90</td>\n",
       "      <td>0.60</td>\n",
       "      <td>1.90</td>\n",
       "      <td>79.50</td>\n",
       "      <td>6.00</td>\n",
       "      <td>0.28</td>\n",
       "      <td>0.47</td>\n",
       "      <td>0.02</td>\n",
       "    </tr>\n",
       "    <tr>\n",
       "      <th>424</th>\n",
       "      <td>Umbria</td>\n",
       "      <td>3</td>\n",
       "      <td>9</td>\n",
       "      <td>10.80</td>\n",
       "      <td>0.65</td>\n",
       "      <td>1.89</td>\n",
       "      <td>79.60</td>\n",
       "      <td>6.02</td>\n",
       "      <td>0.35</td>\n",
       "      <td>0.20</td>\n",
       "      <td>0.01</td>\n",
       "    </tr>\n",
       "    <tr>\n",
       "      <th>425</th>\n",
       "      <td>Umbria</td>\n",
       "      <td>3</td>\n",
       "      <td>9</td>\n",
       "      <td>10.90</td>\n",
       "      <td>0.60</td>\n",
       "      <td>1.95</td>\n",
       "      <td>79.55</td>\n",
       "      <td>6.00</td>\n",
       "      <td>0.28</td>\n",
       "      <td>0.42</td>\n",
       "      <td>0.02</td>\n",
       "    </tr>\n",
       "  </tbody>\n",
       "</table>\n",
       "</div>"
      ],
      "text/plain": [
       "          areastring  region  area  palmitic  palmitoleic  stearic  oleic  linoleic  linolenic  arachidic  eicosenoic\n",
       "0       North-Apulia       1     1     10.75         0.75     2.26  78.23      6.72       0.36       0.60        0.29\n",
       "1       North-Apulia       1     1     10.88         0.73     2.24  77.09      7.81       0.31       0.61        0.29\n",
       "2       North-Apulia       1     1      9.11         0.54     2.46  81.13      5.49       0.31       0.63        0.29\n",
       "3       North-Apulia       1     1      9.66         0.57     2.40  79.52      6.19       0.50       0.78        0.35\n",
       "4       North-Apulia       1     1     10.51         0.67     2.59  77.71      6.72       0.50       0.80        0.46\n",
       "323  Inland-Sardinia       2     5     11.29         1.20     2.22  72.72     11.12       0.43       0.98        0.02\n",
       "324  Inland-Sardinia       2     5     10.42         1.35     2.10  73.76     11.16       0.35       0.90        0.03\n",
       "325  Inland-Sardinia       2     5     11.03         0.96     2.10  73.80     10.85       0.32       0.94        0.03\n",
       "326  Inland-Sardinia       2     5     11.18         0.97     2.21  72.79     11.54       0.35       0.94        0.02\n",
       "327  Inland-Sardinia       2     5     10.52         0.95     2.15  73.88     11.26       0.31       0.92        0.01\n",
       "421           Umbria       3     9     10.85         0.70     1.80  79.55      6.05       0.20       0.50        0.01\n",
       "422           Umbria       3     9     10.85         0.70     1.85  79.55      6.00       0.25       0.55        0.01\n",
       "423           Umbria       3     9     10.90         0.60     1.90  79.50      6.00       0.28       0.47        0.02\n",
       "424           Umbria       3     9     10.80         0.65     1.89  79.60      6.02       0.35       0.20        0.01\n",
       "425           Umbria       3     9     10.90         0.60     1.95  79.55      6.00       0.28       0.42        0.02"
      ]
     },
     "execution_count": 32,
     "metadata": {},
     "output_type": "execute_result"
    }
   ],
   "source": [
    "region_groupby=df.groupby('region')\n",
    "print type(region_groupby)\n",
    "region_groupby.head()"
   ]
  },
  {
   "cell_type": "markdown",
   "metadata": {},
   "source": [
    "The function groupby gives a dictionary-like object, with the keys being the values of the factor, and the values being the corresponding subsets of the dataframe."
   ]
  },
  {
   "cell_type": "code",
   "execution_count": 31,
   "metadata": {
    "collapsed": false
   },
   "outputs": [
    {
     "name": "stdout",
     "output_type": "stream",
     "text": [
      "(key,type(value))=( 1 , <class 'pandas.core.frame.DataFrame'> )\n",
      "(key,type(value))=( 2 , <class 'pandas.core.frame.DataFrame'> )\n",
      "(key,type(value))=( 3 , <class 'pandas.core.frame.DataFrame'> )\n"
     ]
    },
    {
     "data": {
      "text/html": [
       "<div>\n",
       "<table border=\"1\" class=\"dataframe\">\n",
       "  <thead>\n",
       "    <tr style=\"text-align: right;\">\n",
       "      <th></th>\n",
       "      <th>areastring</th>\n",
       "      <th>region</th>\n",
       "      <th>area</th>\n",
       "      <th>palmitic</th>\n",
       "      <th>palmitoleic</th>\n",
       "      <th>stearic</th>\n",
       "      <th>oleic</th>\n",
       "      <th>linoleic</th>\n",
       "      <th>linolenic</th>\n",
       "      <th>arachidic</th>\n",
       "      <th>eicosenoic</th>\n",
       "    </tr>\n",
       "  </thead>\n",
       "  <tbody>\n",
       "    <tr>\n",
       "      <th>421</th>\n",
       "      <td>Umbria</td>\n",
       "      <td>3</td>\n",
       "      <td>9</td>\n",
       "      <td>10.85</td>\n",
       "      <td>0.70</td>\n",
       "      <td>1.80</td>\n",
       "      <td>79.55</td>\n",
       "      <td>6.05</td>\n",
       "      <td>0.20</td>\n",
       "      <td>0.50</td>\n",
       "      <td>0.01</td>\n",
       "    </tr>\n",
       "    <tr>\n",
       "      <th>422</th>\n",
       "      <td>Umbria</td>\n",
       "      <td>3</td>\n",
       "      <td>9</td>\n",
       "      <td>10.85</td>\n",
       "      <td>0.70</td>\n",
       "      <td>1.85</td>\n",
       "      <td>79.55</td>\n",
       "      <td>6.00</td>\n",
       "      <td>0.25</td>\n",
       "      <td>0.55</td>\n",
       "      <td>0.01</td>\n",
       "    </tr>\n",
       "    <tr>\n",
       "      <th>423</th>\n",
       "      <td>Umbria</td>\n",
       "      <td>3</td>\n",
       "      <td>9</td>\n",
       "      <td>10.90</td>\n",
       "      <td>0.60</td>\n",
       "      <td>1.90</td>\n",
       "      <td>79.50</td>\n",
       "      <td>6.00</td>\n",
       "      <td>0.28</td>\n",
       "      <td>0.47</td>\n",
       "      <td>0.02</td>\n",
       "    </tr>\n",
       "    <tr>\n",
       "      <th>424</th>\n",
       "      <td>Umbria</td>\n",
       "      <td>3</td>\n",
       "      <td>9</td>\n",
       "      <td>10.80</td>\n",
       "      <td>0.65</td>\n",
       "      <td>1.89</td>\n",
       "      <td>79.60</td>\n",
       "      <td>6.02</td>\n",
       "      <td>0.35</td>\n",
       "      <td>0.20</td>\n",
       "      <td>0.01</td>\n",
       "    </tr>\n",
       "    <tr>\n",
       "      <th>425</th>\n",
       "      <td>Umbria</td>\n",
       "      <td>3</td>\n",
       "      <td>9</td>\n",
       "      <td>10.90</td>\n",
       "      <td>0.60</td>\n",
       "      <td>1.95</td>\n",
       "      <td>79.55</td>\n",
       "      <td>6.00</td>\n",
       "      <td>0.28</td>\n",
       "      <td>0.42</td>\n",
       "      <td>0.02</td>\n",
       "    </tr>\n",
       "  </tbody>\n",
       "</table>\n",
       "</div>"
      ],
      "text/plain": [
       "    areastring  region  area  palmitic  palmitoleic  stearic  oleic  linoleic  linolenic  arachidic  eicosenoic\n",
       "421     Umbria       3     9     10.85         0.70     1.80  79.55      6.05       0.20       0.50        0.01\n",
       "422     Umbria       3     9     10.85         0.70     1.85  79.55      6.00       0.25       0.55        0.01\n",
       "423     Umbria       3     9     10.90         0.60     1.90  79.50      6.00       0.28       0.47        0.02\n",
       "424     Umbria       3     9     10.80         0.65     1.89  79.60      6.02       0.35       0.20        0.01\n",
       "425     Umbria       3     9     10.90         0.60     1.95  79.55      6.00       0.28       0.42        0.02"
      ]
     },
     "execution_count": 31,
     "metadata": {},
     "output_type": "execute_result"
    }
   ],
   "source": [
    "for key, value in region_groupby:\n",
    "    print \"(key,type(value))=(\",key,',',type(value),\")\"\n",
    "    v=value\n",
    "v.head()"
   ]
  },
  {
   "cell_type": "markdown",
   "metadata": {},
   "source": [
    "The groupby function also acts like an object that can be **mapped**. After the mapping is complete, the rows are put together (**reduced**) into a larger dataframe. For example, using the describe function."
   ]
  },
  {
   "cell_type": "code",
   "execution_count": 33,
   "metadata": {
    "collapsed": false
   },
   "outputs": [
    {
     "name": "stdout",
     "output_type": "stream",
     "text": [
      "<class 'pandas.core.frame.DataFrame'>\n"
     ]
    },
    {
     "data": {
      "text/html": [
       "<div>\n",
       "<table border=\"1\" class=\"dataframe\">\n",
       "  <thead>\n",
       "    <tr style=\"text-align: right;\">\n",
       "      <th></th>\n",
       "      <th></th>\n",
       "      <th>region</th>\n",
       "      <th>area</th>\n",
       "      <th>palmitic</th>\n",
       "      <th>palmitoleic</th>\n",
       "      <th>stearic</th>\n",
       "      <th>oleic</th>\n",
       "      <th>linoleic</th>\n",
       "      <th>linolenic</th>\n",
       "      <th>arachidic</th>\n",
       "      <th>eicosenoic</th>\n",
       "    </tr>\n",
       "    <tr>\n",
       "      <th>region</th>\n",
       "      <th></th>\n",
       "      <th></th>\n",
       "      <th></th>\n",
       "      <th></th>\n",
       "      <th></th>\n",
       "      <th></th>\n",
       "      <th></th>\n",
       "      <th></th>\n",
       "      <th></th>\n",
       "      <th></th>\n",
       "      <th></th>\n",
       "    </tr>\n",
       "  </thead>\n",
       "  <tbody>\n",
       "    <tr>\n",
       "      <th rowspan=\"8\" valign=\"top\">1</th>\n",
       "      <th>count</th>\n",
       "      <td>323.0</td>\n",
       "      <td>323.000000</td>\n",
       "      <td>323.000000</td>\n",
       "      <td>323.000000</td>\n",
       "      <td>323.000000</td>\n",
       "      <td>323.000000</td>\n",
       "      <td>323.000000</td>\n",
       "      <td>323.000000</td>\n",
       "      <td>323.000000</td>\n",
       "      <td>323.000000</td>\n",
       "    </tr>\n",
       "    <tr>\n",
       "      <th>mean</th>\n",
       "      <td>1.0</td>\n",
       "      <td>2.783282</td>\n",
       "      <td>13.322879</td>\n",
       "      <td>1.548019</td>\n",
       "      <td>2.287740</td>\n",
       "      <td>71.000093</td>\n",
       "      <td>10.334985</td>\n",
       "      <td>0.380650</td>\n",
       "      <td>0.631176</td>\n",
       "      <td>0.273220</td>\n",
       "    </tr>\n",
       "    <tr>\n",
       "      <th>std</th>\n",
       "      <td>0.0</td>\n",
       "      <td>0.741054</td>\n",
       "      <td>1.529349</td>\n",
       "      <td>0.507237</td>\n",
       "      <td>0.398709</td>\n",
       "      <td>3.451431</td>\n",
       "      <td>2.106730</td>\n",
       "      <td>0.079727</td>\n",
       "      <td>0.111644</td>\n",
       "      <td>0.083915</td>\n",
       "    </tr>\n",
       "    <tr>\n",
       "      <th>min</th>\n",
       "      <td>1.0</td>\n",
       "      <td>1.000000</td>\n",
       "      <td>8.750000</td>\n",
       "      <td>0.350000</td>\n",
       "      <td>1.520000</td>\n",
       "      <td>63.000000</td>\n",
       "      <td>4.480000</td>\n",
       "      <td>0.200000</td>\n",
       "      <td>0.320000</td>\n",
       "      <td>0.100000</td>\n",
       "    </tr>\n",
       "    <tr>\n",
       "      <th>25%</th>\n",
       "      <td>1.0</td>\n",
       "      <td>2.500000</td>\n",
       "      <td>12.680000</td>\n",
       "      <td>1.215000</td>\n",
       "      <td>2.015000</td>\n",
       "      <td>68.830000</td>\n",
       "      <td>8.555000</td>\n",
       "      <td>0.320000</td>\n",
       "      <td>0.560000</td>\n",
       "      <td>0.220000</td>\n",
       "    </tr>\n",
       "    <tr>\n",
       "      <th>50%</th>\n",
       "      <td>1.0</td>\n",
       "      <td>3.000000</td>\n",
       "      <td>13.460000</td>\n",
       "      <td>1.630000</td>\n",
       "      <td>2.230000</td>\n",
       "      <td>70.300000</td>\n",
       "      <td>10.900000</td>\n",
       "      <td>0.370000</td>\n",
       "      <td>0.620000</td>\n",
       "      <td>0.270000</td>\n",
       "    </tr>\n",
       "    <tr>\n",
       "      <th>75%</th>\n",
       "      <td>1.0</td>\n",
       "      <td>3.000000</td>\n",
       "      <td>14.190000</td>\n",
       "      <td>1.850000</td>\n",
       "      <td>2.495000</td>\n",
       "      <td>72.835000</td>\n",
       "      <td>12.025000</td>\n",
       "      <td>0.440000</td>\n",
       "      <td>0.690000</td>\n",
       "      <td>0.320000</td>\n",
       "    </tr>\n",
       "    <tr>\n",
       "      <th>max</th>\n",
       "      <td>1.0</td>\n",
       "      <td>4.000000</td>\n",
       "      <td>17.530000</td>\n",
       "      <td>2.800000</td>\n",
       "      <td>3.750000</td>\n",
       "      <td>81.130000</td>\n",
       "      <td>14.620000</td>\n",
       "      <td>0.740000</td>\n",
       "      <td>1.020000</td>\n",
       "      <td>0.580000</td>\n",
       "    </tr>\n",
       "    <tr>\n",
       "      <th rowspan=\"8\" valign=\"top\">2</th>\n",
       "      <th>count</th>\n",
       "      <td>98.0</td>\n",
       "      <td>98.000000</td>\n",
       "      <td>98.000000</td>\n",
       "      <td>98.000000</td>\n",
       "      <td>98.000000</td>\n",
       "      <td>98.000000</td>\n",
       "      <td>98.000000</td>\n",
       "      <td>98.000000</td>\n",
       "      <td>98.000000</td>\n",
       "      <td>98.000000</td>\n",
       "    </tr>\n",
       "    <tr>\n",
       "      <th>mean</th>\n",
       "      <td>2.0</td>\n",
       "      <td>5.336735</td>\n",
       "      <td>11.113469</td>\n",
       "      <td>0.967449</td>\n",
       "      <td>2.261837</td>\n",
       "      <td>72.680204</td>\n",
       "      <td>11.965306</td>\n",
       "      <td>0.270918</td>\n",
       "      <td>0.731735</td>\n",
       "      <td>0.019388</td>\n",
       "    </tr>\n",
       "    <tr>\n",
       "      <th>std</th>\n",
       "      <td>0.0</td>\n",
       "      <td>0.475023</td>\n",
       "      <td>0.404111</td>\n",
       "      <td>0.138514</td>\n",
       "      <td>0.176363</td>\n",
       "      <td>1.418783</td>\n",
       "      <td>1.072336</td>\n",
       "      <td>0.053844</td>\n",
       "      <td>0.118826</td>\n",
       "      <td>0.007436</td>\n",
       "    </tr>\n",
       "    <tr>\n",
       "      <th>min</th>\n",
       "      <td>2.0</td>\n",
       "      <td>5.000000</td>\n",
       "      <td>10.300000</td>\n",
       "      <td>0.350000</td>\n",
       "      <td>1.990000</td>\n",
       "      <td>68.820000</td>\n",
       "      <td>10.570000</td>\n",
       "      <td>0.150000</td>\n",
       "      <td>0.450000</td>\n",
       "      <td>0.010000</td>\n",
       "    </tr>\n",
       "    <tr>\n",
       "      <th>25%</th>\n",
       "      <td>2.0</td>\n",
       "      <td>5.000000</td>\n",
       "      <td>10.852500</td>\n",
       "      <td>0.882500</td>\n",
       "      <td>2.120000</td>\n",
       "      <td>71.372500</td>\n",
       "      <td>11.122500</td>\n",
       "      <td>0.230000</td>\n",
       "      <td>0.660000</td>\n",
       "      <td>0.010000</td>\n",
       "    </tr>\n",
       "    <tr>\n",
       "      <th>50%</th>\n",
       "      <td>2.0</td>\n",
       "      <td>5.000000</td>\n",
       "      <td>11.075000</td>\n",
       "      <td>0.960000</td>\n",
       "      <td>2.220000</td>\n",
       "      <td>73.255000</td>\n",
       "      <td>11.465000</td>\n",
       "      <td>0.270000</td>\n",
       "      <td>0.720000</td>\n",
       "      <td>0.020000</td>\n",
       "    </tr>\n",
       "    <tr>\n",
       "      <th>75%</th>\n",
       "      <td>2.0</td>\n",
       "      <td>6.000000</td>\n",
       "      <td>11.372500</td>\n",
       "      <td>1.040000</td>\n",
       "      <td>2.395000</td>\n",
       "      <td>73.810000</td>\n",
       "      <td>13.065000</td>\n",
       "      <td>0.300000</td>\n",
       "      <td>0.810000</td>\n",
       "      <td>0.020000</td>\n",
       "    </tr>\n",
       "    <tr>\n",
       "      <th>max</th>\n",
       "      <td>2.0</td>\n",
       "      <td>6.000000</td>\n",
       "      <td>12.130000</td>\n",
       "      <td>1.350000</td>\n",
       "      <td>2.720000</td>\n",
       "      <td>74.390000</td>\n",
       "      <td>14.700000</td>\n",
       "      <td>0.430000</td>\n",
       "      <td>1.050000</td>\n",
       "      <td>0.030000</td>\n",
       "    </tr>\n",
       "    <tr>\n",
       "      <th rowspan=\"4\" valign=\"top\">3</th>\n",
       "      <th>count</th>\n",
       "      <td>151.0</td>\n",
       "      <td>151.000000</td>\n",
       "      <td>151.000000</td>\n",
       "      <td>151.000000</td>\n",
       "      <td>151.000000</td>\n",
       "      <td>151.000000</td>\n",
       "      <td>151.000000</td>\n",
       "      <td>151.000000</td>\n",
       "      <td>151.000000</td>\n",
       "      <td>151.000000</td>\n",
       "    </tr>\n",
       "    <tr>\n",
       "      <th>mean</th>\n",
       "      <td>3.0</td>\n",
       "      <td>8.006623</td>\n",
       "      <td>10.948013</td>\n",
       "      <td>0.837351</td>\n",
       "      <td>2.308013</td>\n",
       "      <td>77.930530</td>\n",
       "      <td>7.270331</td>\n",
       "      <td>0.217881</td>\n",
       "      <td>0.375762</td>\n",
       "      <td>0.019735</td>\n",
       "    </tr>\n",
       "    <tr>\n",
       "      <th>std</th>\n",
       "      <td>0.0</td>\n",
       "      <td>0.820542</td>\n",
       "      <td>0.825635</td>\n",
       "      <td>0.264388</td>\n",
       "      <td>0.389560</td>\n",
       "      <td>1.648155</td>\n",
       "      <td>1.431226</td>\n",
       "      <td>0.168865</td>\n",
       "      <td>0.293586</td>\n",
       "      <td>0.007298</td>\n",
       "    </tr>\n",
       "    <tr>\n",
       "      <th>min</th>\n",
       "      <td>3.0</td>\n",
       "      <td>7.000000</td>\n",
       "      <td>6.100000</td>\n",
       "      <td>0.150000</td>\n",
       "      <td>1.700000</td>\n",
       "      <td>73.400000</td>\n",
       "      <td>5.100000</td>\n",
       "      <td>0.000000</td>\n",
       "      <td>0.000000</td>\n",
       "      <td>0.010000</td>\n",
       "    </tr>\n",
       "  </tbody>\n",
       "</table>\n",
       "</div>"
      ],
      "text/plain": [
       "              region        area    palmitic  palmitoleic     stearic       oleic    linoleic   linolenic   arachidic  eicosenoic\n",
       "region                                                                                                                           \n",
       "1      count   323.0  323.000000  323.000000   323.000000  323.000000  323.000000  323.000000  323.000000  323.000000  323.000000\n",
       "       mean      1.0    2.783282   13.322879     1.548019    2.287740   71.000093   10.334985    0.380650    0.631176    0.273220\n",
       "       std       0.0    0.741054    1.529349     0.507237    0.398709    3.451431    2.106730    0.079727    0.111644    0.083915\n",
       "       min       1.0    1.000000    8.750000     0.350000    1.520000   63.000000    4.480000    0.200000    0.320000    0.100000\n",
       "       25%       1.0    2.500000   12.680000     1.215000    2.015000   68.830000    8.555000    0.320000    0.560000    0.220000\n",
       "       50%       1.0    3.000000   13.460000     1.630000    2.230000   70.300000   10.900000    0.370000    0.620000    0.270000\n",
       "       75%       1.0    3.000000   14.190000     1.850000    2.495000   72.835000   12.025000    0.440000    0.690000    0.320000\n",
       "       max       1.0    4.000000   17.530000     2.800000    3.750000   81.130000   14.620000    0.740000    1.020000    0.580000\n",
       "2      count    98.0   98.000000   98.000000    98.000000   98.000000   98.000000   98.000000   98.000000   98.000000   98.000000\n",
       "       mean      2.0    5.336735   11.113469     0.967449    2.261837   72.680204   11.965306    0.270918    0.731735    0.019388\n",
       "       std       0.0    0.475023    0.404111     0.138514    0.176363    1.418783    1.072336    0.053844    0.118826    0.007436\n",
       "       min       2.0    5.000000   10.300000     0.350000    1.990000   68.820000   10.570000    0.150000    0.450000    0.010000\n",
       "       25%       2.0    5.000000   10.852500     0.882500    2.120000   71.372500   11.122500    0.230000    0.660000    0.010000\n",
       "       50%       2.0    5.000000   11.075000     0.960000    2.220000   73.255000   11.465000    0.270000    0.720000    0.020000\n",
       "       75%       2.0    6.000000   11.372500     1.040000    2.395000   73.810000   13.065000    0.300000    0.810000    0.020000\n",
       "       max       2.0    6.000000   12.130000     1.350000    2.720000   74.390000   14.700000    0.430000    1.050000    0.030000\n",
       "3      count   151.0  151.000000  151.000000   151.000000  151.000000  151.000000  151.000000  151.000000  151.000000  151.000000\n",
       "       mean      3.0    8.006623   10.948013     0.837351    2.308013   77.930530    7.270331    0.217881    0.375762    0.019735\n",
       "       std       0.0    0.820542    0.825635     0.264388    0.389560    1.648155    1.431226    0.168865    0.293586    0.007298\n",
       "       min       3.0    7.000000    6.100000     0.150000    1.700000   73.400000    5.100000    0.000000    0.000000    0.010000"
      ]
     },
     "execution_count": 33,
     "metadata": {},
     "output_type": "execute_result"
    }
   ],
   "source": [
    "dfrd=region_groupby.describe()\n",
    "print type(dfrd)\n",
    "dfrd.head(20)"
   ]
  },
  {
   "cell_type": "markdown",
   "metadata": {},
   "source": [
    "So, one may iterate through the groupby dictionary, get the pandas series from each sub-dataframe, and compute the standard deviation using the std function."
   ]
  },
  {
   "cell_type": "code",
   "execution_count": 34,
   "metadata": {
    "collapsed": false
   },
   "outputs": [
    {
     "name": "stdout",
     "output_type": "stream",
     "text": [
      "3 <class 'pandas.core.series.Series'> region         0.000000\n",
      "area           0.820542\n",
      "palmitic       0.825635\n",
      "palmitoleic    0.264388\n",
      "stearic        0.389560\n",
      "oleic          1.648155\n",
      "linoleic       1.431226\n",
      "linolenic      0.168865\n",
      "arachidic      0.293586\n",
      "eicosenoic     0.007298\n",
      "dtype: float64\n"
     ]
    }
   ],
   "source": [
    "vecs=[]\n",
    "keys=[]\n",
    "for key, value in region_groupby:\n",
    "    k=key\n",
    "    v=value.std()\n",
    "print k, type(v),v"
   ]
  },
  {
   "cell_type": "markdown",
   "metadata": {},
   "source": [
    "Or one might let pandas take care of concatenating the series obtained by running std on each dataframe back into a dataframe for us."
   ]
  },
  {
   "cell_type": "code",
   "execution_count": 35,
   "metadata": {
    "collapsed": false
   },
   "outputs": [
    {
     "data": {
      "text/html": [
       "<div>\n",
       "<table border=\"1\" class=\"dataframe\">\n",
       "  <thead>\n",
       "    <tr style=\"text-align: right;\">\n",
       "      <th></th>\n",
       "      <th>area</th>\n",
       "      <th>palmitic</th>\n",
       "      <th>palmitoleic</th>\n",
       "      <th>stearic</th>\n",
       "      <th>oleic</th>\n",
       "      <th>linoleic</th>\n",
       "      <th>linolenic</th>\n",
       "      <th>arachidic</th>\n",
       "      <th>eicosenoic</th>\n",
       "    </tr>\n",
       "    <tr>\n",
       "      <th>region</th>\n",
       "      <th></th>\n",
       "      <th></th>\n",
       "      <th></th>\n",
       "      <th></th>\n",
       "      <th></th>\n",
       "      <th></th>\n",
       "      <th></th>\n",
       "      <th></th>\n",
       "      <th></th>\n",
       "    </tr>\n",
       "  </thead>\n",
       "  <tbody>\n",
       "    <tr>\n",
       "      <th>1</th>\n",
       "      <td>0.741054</td>\n",
       "      <td>1.529349</td>\n",
       "      <td>0.507237</td>\n",
       "      <td>0.398709</td>\n",
       "      <td>3.451431</td>\n",
       "      <td>2.106730</td>\n",
       "      <td>0.079727</td>\n",
       "      <td>0.111644</td>\n",
       "      <td>0.083915</td>\n",
       "    </tr>\n",
       "    <tr>\n",
       "      <th>2</th>\n",
       "      <td>0.475023</td>\n",
       "      <td>0.404111</td>\n",
       "      <td>0.138514</td>\n",
       "      <td>0.176363</td>\n",
       "      <td>1.418783</td>\n",
       "      <td>1.072336</td>\n",
       "      <td>0.053844</td>\n",
       "      <td>0.118826</td>\n",
       "      <td>0.007436</td>\n",
       "    </tr>\n",
       "    <tr>\n",
       "      <th>3</th>\n",
       "      <td>0.820542</td>\n",
       "      <td>0.825635</td>\n",
       "      <td>0.264388</td>\n",
       "      <td>0.389560</td>\n",
       "      <td>1.648155</td>\n",
       "      <td>1.431226</td>\n",
       "      <td>0.168865</td>\n",
       "      <td>0.293586</td>\n",
       "      <td>0.007298</td>\n",
       "    </tr>\n",
       "  </tbody>\n",
       "</table>\n",
       "</div>"
      ],
      "text/plain": [
       "            area  palmitic  palmitoleic   stearic     oleic  linoleic  linolenic  arachidic  eicosenoic\n",
       "region                                                                                                 \n",
       "1       0.741054  1.529349     0.507237  0.398709  3.451431  2.106730   0.079727   0.111644    0.083915\n",
       "2       0.475023  0.404111     0.138514  0.176363  1.418783  1.072336   0.053844   0.118826    0.007436\n",
       "3       0.820542  0.825635     0.264388  0.389560  1.648155  1.431226   0.168865   0.293586    0.007298"
      ]
     },
     "execution_count": 35,
     "metadata": {},
     "output_type": "execute_result"
    }
   ],
   "source": [
    "dfbystd=df.groupby('region').std()\n",
    "dfbystd.head()"
   ]
  },
  {
   "cell_type": "markdown",
   "metadata": {},
   "source": [
    "Or one can use aggregate to pass an arbitray function to the sub-dataframe. The function is applied columnwise."
   ]
  },
  {
   "cell_type": "code",
   "execution_count": 36,
   "metadata": {
    "collapsed": false
   },
   "outputs": [
    {
     "data": {
      "text/html": [
       "<div>\n",
       "<table border=\"1\" class=\"dataframe\">\n",
       "  <thead>\n",
       "    <tr style=\"text-align: right;\">\n",
       "      <th></th>\n",
       "      <th>area</th>\n",
       "      <th>palmitic</th>\n",
       "      <th>palmitoleic</th>\n",
       "      <th>stearic</th>\n",
       "      <th>oleic</th>\n",
       "      <th>linoleic</th>\n",
       "      <th>linolenic</th>\n",
       "      <th>arachidic</th>\n",
       "      <th>eicosenoic</th>\n",
       "    </tr>\n",
       "    <tr>\n",
       "      <th>region</th>\n",
       "      <th></th>\n",
       "      <th></th>\n",
       "      <th></th>\n",
       "      <th></th>\n",
       "      <th></th>\n",
       "      <th></th>\n",
       "      <th></th>\n",
       "      <th></th>\n",
       "      <th></th>\n",
       "    </tr>\n",
       "  </thead>\n",
       "  <tbody>\n",
       "    <tr>\n",
       "      <th>1</th>\n",
       "      <td>2.783282</td>\n",
       "      <td>13.322879</td>\n",
       "      <td>1.548019</td>\n",
       "      <td>2.287740</td>\n",
       "      <td>71.000093</td>\n",
       "      <td>10.334985</td>\n",
       "      <td>0.380650</td>\n",
       "      <td>0.631176</td>\n",
       "      <td>0.273220</td>\n",
       "    </tr>\n",
       "    <tr>\n",
       "      <th>2</th>\n",
       "      <td>5.336735</td>\n",
       "      <td>11.113469</td>\n",
       "      <td>0.967449</td>\n",
       "      <td>2.261837</td>\n",
       "      <td>72.680204</td>\n",
       "      <td>11.965306</td>\n",
       "      <td>0.270918</td>\n",
       "      <td>0.731735</td>\n",
       "      <td>0.019388</td>\n",
       "    </tr>\n",
       "    <tr>\n",
       "      <th>3</th>\n",
       "      <td>8.006623</td>\n",
       "      <td>10.948013</td>\n",
       "      <td>0.837351</td>\n",
       "      <td>2.308013</td>\n",
       "      <td>77.930530</td>\n",
       "      <td>7.270331</td>\n",
       "      <td>0.217881</td>\n",
       "      <td>0.375762</td>\n",
       "      <td>0.019735</td>\n",
       "    </tr>\n",
       "  </tbody>\n",
       "</table>\n",
       "</div>"
      ],
      "text/plain": [
       "            area   palmitic  palmitoleic   stearic      oleic   linoleic  linolenic  arachidic  eicosenoic\n",
       "region                                                                                                    \n",
       "1       2.783282  13.322879     1.548019  2.287740  71.000093  10.334985   0.380650   0.631176    0.273220\n",
       "2       5.336735  11.113469     0.967449  2.261837  72.680204  11.965306   0.270918   0.731735    0.019388\n",
       "3       8.006623  10.948013     0.837351  2.308013  77.930530   7.270331   0.217881   0.375762    0.019735"
      ]
     },
     "execution_count": 36,
     "metadata": {},
     "output_type": "execute_result"
    }
   ],
   "source": [
    "dfbymean=region_groupby.aggregate(np.mean)\n",
    "dfbymean.head()"
   ]
  },
  {
   "cell_type": "markdown",
   "metadata": {},
   "source": [
    "Or one can use apply to passs an arbitrary function to the sub-dataframe. This one takes the dataframe as argument."
   ]
  },
  {
   "cell_type": "code",
   "execution_count": 37,
   "metadata": {
    "collapsed": false
   },
   "outputs": [
    {
     "data": {
      "text/html": [
       "<div>\n",
       "<table border=\"1\" class=\"dataframe\">\n",
       "  <thead>\n",
       "    <tr style=\"text-align: right;\">\n",
       "      <th></th>\n",
       "      <th>region</th>\n",
       "      <th>area</th>\n",
       "      <th>palmitic</th>\n",
       "      <th>palmitoleic</th>\n",
       "      <th>stearic</th>\n",
       "      <th>oleic</th>\n",
       "      <th>linoleic</th>\n",
       "      <th>linolenic</th>\n",
       "      <th>arachidic</th>\n",
       "      <th>eicosenoic</th>\n",
       "    </tr>\n",
       "    <tr>\n",
       "      <th>region</th>\n",
       "      <th></th>\n",
       "      <th></th>\n",
       "      <th></th>\n",
       "      <th></th>\n",
       "      <th></th>\n",
       "      <th></th>\n",
       "      <th></th>\n",
       "      <th></th>\n",
       "      <th></th>\n",
       "      <th></th>\n",
       "    </tr>\n",
       "  </thead>\n",
       "  <tbody>\n",
       "    <tr>\n",
       "      <th>1</th>\n",
       "      <td>1.0</td>\n",
       "      <td>2.783282</td>\n",
       "      <td>13.322879</td>\n",
       "      <td>1.548019</td>\n",
       "      <td>2.287740</td>\n",
       "      <td>71.000093</td>\n",
       "      <td>10.334985</td>\n",
       "      <td>0.380650</td>\n",
       "      <td>0.631176</td>\n",
       "      <td>0.273220</td>\n",
       "    </tr>\n",
       "    <tr>\n",
       "      <th>2</th>\n",
       "      <td>2.0</td>\n",
       "      <td>5.336735</td>\n",
       "      <td>11.113469</td>\n",
       "      <td>0.967449</td>\n",
       "      <td>2.261837</td>\n",
       "      <td>72.680204</td>\n",
       "      <td>11.965306</td>\n",
       "      <td>0.270918</td>\n",
       "      <td>0.731735</td>\n",
       "      <td>0.019388</td>\n",
       "    </tr>\n",
       "    <tr>\n",
       "      <th>3</th>\n",
       "      <td>3.0</td>\n",
       "      <td>8.006623</td>\n",
       "      <td>10.948013</td>\n",
       "      <td>0.837351</td>\n",
       "      <td>2.308013</td>\n",
       "      <td>77.930530</td>\n",
       "      <td>7.270331</td>\n",
       "      <td>0.217881</td>\n",
       "      <td>0.375762</td>\n",
       "      <td>0.019735</td>\n",
       "    </tr>\n",
       "  </tbody>\n",
       "</table>\n",
       "</div>"
      ],
      "text/plain": [
       "        region      area   palmitic  palmitoleic   stearic      oleic   linoleic  linolenic  arachidic  eicosenoic\n",
       "region                                                                                                            \n",
       "1          1.0  2.783282  13.322879     1.548019  2.287740  71.000093  10.334985   0.380650   0.631176    0.273220\n",
       "2          2.0  5.336735  11.113469     0.967449  2.261837  72.680204  11.965306   0.270918   0.731735    0.019388\n",
       "3          3.0  8.006623  10.948013     0.837351  2.308013  77.930530   7.270331   0.217881   0.375762    0.019735"
      ]
     },
     "execution_count": 37,
     "metadata": {},
     "output_type": "execute_result"
    }
   ],
   "source": [
    "region_groupby.apply(lambda f:f.mean())"
   ]
  },
  {
   "cell_type": "code",
   "execution_count": 39,
   "metadata": {
    "collapsed": false
   },
   "outputs": [
    {
     "data": {
      "text/plain": [
       "region\n",
       "1    13.322879\n",
       "2    11.113469\n",
       "3    10.948013\n",
       "dtype: float64"
      ]
     },
     "execution_count": 39,
     "metadata": {},
     "output_type": "execute_result"
    }
   ],
   "source": [
    "region_groupby.apply(lambda f: f.palmitic.mean())"
   ]
  },
  {
   "cell_type": "code",
   "execution_count": 40,
   "metadata": {
    "collapsed": false
   },
   "outputs": [
    {
     "data": {
      "text/html": [
       "<div>\n",
       "<table border=\"1\" class=\"dataframe\">\n",
       "  <thead>\n",
       "    <tr style=\"text-align: right;\">\n",
       "      <th></th>\n",
       "      <th>area</th>\n",
       "      <th>palmitic_std</th>\n",
       "      <th>palmitoleic_std</th>\n",
       "      <th>stearic_std</th>\n",
       "      <th>oleic_std</th>\n",
       "      <th>linoleic_std</th>\n",
       "      <th>linolenic_std</th>\n",
       "      <th>arachidic_std</th>\n",
       "      <th>eicosenoic_std</th>\n",
       "    </tr>\n",
       "    <tr>\n",
       "      <th>region</th>\n",
       "      <th></th>\n",
       "      <th></th>\n",
       "      <th></th>\n",
       "      <th></th>\n",
       "      <th></th>\n",
       "      <th></th>\n",
       "      <th></th>\n",
       "      <th></th>\n",
       "      <th></th>\n",
       "    </tr>\n",
       "  </thead>\n",
       "  <tbody>\n",
       "    <tr>\n",
       "      <th>1</th>\n",
       "      <td>0.741054</td>\n",
       "      <td>1.529349</td>\n",
       "      <td>0.507237</td>\n",
       "      <td>0.398709</td>\n",
       "      <td>3.451431</td>\n",
       "      <td>2.106730</td>\n",
       "      <td>0.079727</td>\n",
       "      <td>0.111644</td>\n",
       "      <td>0.083915</td>\n",
       "    </tr>\n",
       "    <tr>\n",
       "      <th>2</th>\n",
       "      <td>0.475023</td>\n",
       "      <td>0.404111</td>\n",
       "      <td>0.138514</td>\n",
       "      <td>0.176363</td>\n",
       "      <td>1.418783</td>\n",
       "      <td>1.072336</td>\n",
       "      <td>0.053844</td>\n",
       "      <td>0.118826</td>\n",
       "      <td>0.007436</td>\n",
       "    </tr>\n",
       "    <tr>\n",
       "      <th>3</th>\n",
       "      <td>0.820542</td>\n",
       "      <td>0.825635</td>\n",
       "      <td>0.264388</td>\n",
       "      <td>0.389560</td>\n",
       "      <td>1.648155</td>\n",
       "      <td>1.431226</td>\n",
       "      <td>0.168865</td>\n",
       "      <td>0.293586</td>\n",
       "      <td>0.007298</td>\n",
       "    </tr>\n",
       "  </tbody>\n",
       "</table>\n",
       "</div>"
      ],
      "text/plain": [
       "            area  palmitic_std  palmitoleic_std  stearic_std  oleic_std  linoleic_std  linolenic_std  arachidic_std  eicosenoic_std\n",
       "region                                                                                                                             \n",
       "1       0.741054      1.529349         0.507237     0.398709   3.451431      2.106730       0.079727       0.111644        0.083915\n",
       "2       0.475023      0.404111         0.138514     0.176363   1.418783      1.072336       0.053844       0.118826        0.007436\n",
       "3       0.820542      0.825635         0.264388     0.389560   1.648155      1.431226       0.168865       0.293586        0.007298"
      ]
     },
     "execution_count": 40,
     "metadata": {},
     "output_type": "execute_result"
    }
   ],
   "source": [
    "# Rename the columns in dfbymean and dfbystd\n",
    "renamedict_std={k:k+'_std' for k in acidlist}\n",
    "renamedict_mean={k:k+'_mean' for k in acidlist}\n",
    "dfbystd.rename(inplace=True,columns=renamedict_std)\n",
    "dfbymean.rename(inplace=True,columns=renamedict_mean)\n",
    "dfbystd.head()"
   ]
  },
  {
   "cell_type": "code",
   "execution_count": 43,
   "metadata": {
    "collapsed": false
   },
   "outputs": [
    {
     "data": {
      "text/html": [
       "<div>\n",
       "<table border=\"1\" class=\"dataframe\">\n",
       "  <thead>\n",
       "    <tr style=\"text-align: right;\">\n",
       "      <th></th>\n",
       "      <th>palmitic_mean</th>\n",
       "      <th>palmitic_std</th>\n",
       "    </tr>\n",
       "    <tr>\n",
       "      <th>region</th>\n",
       "      <th></th>\n",
       "      <th></th>\n",
       "    </tr>\n",
       "  </thead>\n",
       "  <tbody>\n",
       "    <tr>\n",
       "      <th>1</th>\n",
       "      <td>13.322879</td>\n",
       "      <td>1.529349</td>\n",
       "    </tr>\n",
       "    <tr>\n",
       "      <th>2</th>\n",
       "      <td>11.113469</td>\n",
       "      <td>0.404111</td>\n",
       "    </tr>\n",
       "    <tr>\n",
       "      <th>3</th>\n",
       "      <td>10.948013</td>\n",
       "      <td>0.825635</td>\n",
       "    </tr>\n",
       "  </tbody>\n",
       "</table>\n",
       "</div>"
      ],
      "text/plain": [
       "        palmitic_mean  palmitic_std\n",
       "region                             \n",
       "1           13.322879      1.529349\n",
       "2           11.113469      0.404111\n",
       "3           10.948013      0.825635"
      ]
     },
     "execution_count": 43,
     "metadata": {},
     "output_type": "execute_result"
    }
   ],
   "source": [
    "# join by common region index\n",
    "dfpalmiticmean = dfbymean[['palmitic_mean']] \n",
    "dfpalmiticstd = dfbystd[['palmitic_std']]\n",
    "newdfbyregion=dfpalmiticmean.join(dfpalmiticstd)\n",
    "newdfbyregion.head()"
   ]
  },
  {
   "cell_type": "markdown",
   "metadata": {},
   "source": [
    "Let's weight the palmitic acids content by a random weight. We'll first extract a subset of columns from df and then write a function to weight the palmitic content by this random weight, delivering a weighted palmitic mean in the final dataframe."
   ]
  },
  {
   "cell_type": "code",
   "execution_count": 44,
   "metadata": {
    "collapsed": false
   },
   "outputs": [
    {
     "data": {
      "text/plain": [
       "(572, 11)"
      ]
     },
     "execution_count": 44,
     "metadata": {},
     "output_type": "execute_result"
    }
   ],
   "source": [
    "df.shape"
   ]
  },
  {
   "cell_type": "code",
   "execution_count": 45,
   "metadata": {
    "collapsed": false
   },
   "outputs": [
    {
     "name": "stderr",
     "output_type": "stream",
     "text": [
      "/Users/yuchengtsai/anaconda/lib/python2.7/site-packages/ipykernel/__main__.py:4: SettingWithCopyWarning: \n",
      "A value is trying to be set on a copy of a slice from a DataFrame.\n",
      "Try using .loc[row_indexer,col_indexer] = value instead\n",
      "\n",
      "See the caveats in the documentation: http://pandas.pydata.org/pandas-docs/stable/indexing.html#indexing-view-versus-copy\n"
     ]
    },
    {
     "data": {
      "text/html": [
       "<div>\n",
       "<table border=\"1\" class=\"dataframe\">\n",
       "  <thead>\n",
       "    <tr style=\"text-align: right;\">\n",
       "      <th></th>\n",
       "      <th>region</th>\n",
       "      <th>weight</th>\n",
       "    </tr>\n",
       "  </thead>\n",
       "  <tbody>\n",
       "    <tr>\n",
       "      <th>0</th>\n",
       "      <td>1</td>\n",
       "      <td>0.327681</td>\n",
       "    </tr>\n",
       "    <tr>\n",
       "      <th>1</th>\n",
       "      <td>1</td>\n",
       "      <td>0.549614</td>\n",
       "    </tr>\n",
       "    <tr>\n",
       "      <th>2</th>\n",
       "      <td>1</td>\n",
       "      <td>0.350679</td>\n",
       "    </tr>\n",
       "    <tr>\n",
       "      <th>3</th>\n",
       "      <td>1</td>\n",
       "      <td>0.135327</td>\n",
       "    </tr>\n",
       "    <tr>\n",
       "      <th>4</th>\n",
       "      <td>1</td>\n",
       "      <td>0.613030</td>\n",
       "    </tr>\n",
       "  </tbody>\n",
       "</table>\n",
       "</div>"
      ],
      "text/plain": [
       "   region    weight\n",
       "0       1  0.327681\n",
       "1       1  0.549614\n",
       "2       1  0.350679\n",
       "3       1  0.135327\n",
       "4       1  0.613030"
      ]
     },
     "execution_count": 45,
     "metadata": {},
     "output_type": "execute_result"
    }
   ],
   "source": [
    "weights=np.random.uniform(size=df.shape[0])\n",
    "smallerdf=df[['palmitic']]\n",
    "otherdf=df[['region']]\n",
    "otherdf['weight']=weights\n",
    "otherdf.head()"
   ]
  },
  {
   "cell_type": "code",
   "execution_count": 48,
   "metadata": {
    "collapsed": false
   },
   "outputs": [
    {
     "data": {
      "text/html": [
       "<div>\n",
       "<table border=\"1\" class=\"dataframe\">\n",
       "  <thead>\n",
       "    <tr style=\"text-align: right;\">\n",
       "      <th></th>\n",
       "      <th>palmitic</th>\n",
       "      <th>region</th>\n",
       "      <th>weight</th>\n",
       "    </tr>\n",
       "  </thead>\n",
       "  <tbody>\n",
       "    <tr>\n",
       "      <th>0</th>\n",
       "      <td>10.75</td>\n",
       "      <td>1</td>\n",
       "      <td>0.327681</td>\n",
       "    </tr>\n",
       "    <tr>\n",
       "      <th>1</th>\n",
       "      <td>10.88</td>\n",
       "      <td>1</td>\n",
       "      <td>0.549614</td>\n",
       "    </tr>\n",
       "    <tr>\n",
       "      <th>2</th>\n",
       "      <td>9.11</td>\n",
       "      <td>1</td>\n",
       "      <td>0.350679</td>\n",
       "    </tr>\n",
       "    <tr>\n",
       "      <th>3</th>\n",
       "      <td>9.66</td>\n",
       "      <td>1</td>\n",
       "      <td>0.135327</td>\n",
       "    </tr>\n",
       "    <tr>\n",
       "      <th>4</th>\n",
       "      <td>10.51</td>\n",
       "      <td>1</td>\n",
       "      <td>0.613030</td>\n",
       "    </tr>\n",
       "  </tbody>\n",
       "</table>\n",
       "</div>"
      ],
      "text/plain": [
       "   palmitic  region    weight\n",
       "0     10.75       1  0.327681\n",
       "1     10.88       1  0.549614\n",
       "2      9.11       1  0.350679\n",
       "3      9.66       1  0.135327\n",
       "4     10.51       1  0.613030"
      ]
     },
     "execution_count": 48,
     "metadata": {},
     "output_type": "execute_result"
    }
   ],
   "source": [
    "#join smallerdf and otherdf on the index, into smallerdf\n",
    "smallerdf=smallerdf.join(otherdf)\n",
    "smallerdf.head()"
   ]
  },
  {
   "cell_type": "code",
   "execution_count": 50,
   "metadata": {
    "collapsed": false
   },
   "outputs": [
    {
     "data": {
      "text/plain": [
       "region\n",
       "1    13.344140\n",
       "2    11.116598\n",
       "3    10.937109\n",
       "dtype: float64"
      ]
     },
     "execution_count": 50,
     "metadata": {},
     "output_type": "execute_result"
    }
   ],
   "source": [
    "# Calculate the weighted average over the palmitic column\n",
    "def wfunc(f):\n",
    "    return (f.palmitic*f.weight).sum()/f.weight.sum()\n",
    "smallerdf.groupby('region').apply(wfunc)"
   ]
  },
  {
   "cell_type": "code",
   "execution_count": 52,
   "metadata": {
    "collapsed": false
   },
   "outputs": [
    {
     "data": {
      "text/html": [
       "<div>\n",
       "<table border=\"1\" class=\"dataframe\">\n",
       "  <thead>\n",
       "    <tr style=\"text-align: right;\">\n",
       "      <th></th>\n",
       "      <th>areastring</th>\n",
       "      <th>area</th>\n",
       "      <th>palmitic</th>\n",
       "      <th>palmitoleic</th>\n",
       "      <th>stearic</th>\n",
       "      <th>oleic</th>\n",
       "      <th>linoleic</th>\n",
       "      <th>linolenic</th>\n",
       "      <th>arachidic</th>\n",
       "      <th>eicosenoic</th>\n",
       "    </tr>\n",
       "    <tr>\n",
       "      <th>region</th>\n",
       "      <th></th>\n",
       "      <th></th>\n",
       "      <th></th>\n",
       "      <th></th>\n",
       "      <th></th>\n",
       "      <th></th>\n",
       "      <th></th>\n",
       "      <th></th>\n",
       "      <th></th>\n",
       "      <th></th>\n",
       "    </tr>\n",
       "  </thead>\n",
       "  <tbody>\n",
       "    <tr>\n",
       "      <th>1</th>\n",
       "      <td>North-ApuliaNorth-ApuliaNorth-ApuliaNorth-Apul...</td>\n",
       "      <td>899</td>\n",
       "      <td>4303.29</td>\n",
       "      <td>500.01</td>\n",
       "      <td>738.94</td>\n",
       "      <td>22933.03</td>\n",
       "      <td>3338.20</td>\n",
       "      <td>122.95</td>\n",
       "      <td>203.87</td>\n",
       "      <td>88.25</td>\n",
       "    </tr>\n",
       "    <tr>\n",
       "      <th>2</th>\n",
       "      <td>Inland-SardiniaInland-SardiniaInland-SardiniaI...</td>\n",
       "      <td>523</td>\n",
       "      <td>1089.12</td>\n",
       "      <td>94.81</td>\n",
       "      <td>221.66</td>\n",
       "      <td>7122.66</td>\n",
       "      <td>1172.60</td>\n",
       "      <td>26.55</td>\n",
       "      <td>71.71</td>\n",
       "      <td>1.90</td>\n",
       "    </tr>\n",
       "    <tr>\n",
       "      <th>3</th>\n",
       "      <td>UmbriaUmbriaUmbriaUmbriaUmbriaUmbriaUmbriaUmbr...</td>\n",
       "      <td>1209</td>\n",
       "      <td>1653.15</td>\n",
       "      <td>126.44</td>\n",
       "      <td>348.51</td>\n",
       "      <td>11767.51</td>\n",
       "      <td>1097.82</td>\n",
       "      <td>32.90</td>\n",
       "      <td>56.74</td>\n",
       "      <td>2.98</td>\n",
       "    </tr>\n",
       "  </tbody>\n",
       "</table>\n",
       "</div>"
      ],
      "text/plain": [
       "                                               areastring  area  palmitic  palmitoleic  stearic     oleic  linoleic  linolenic  arachidic  eicosenoic\n",
       "region                                                                                                                                               \n",
       "1       North-ApuliaNorth-ApuliaNorth-ApuliaNorth-Apul...   899   4303.29       500.01   738.94  22933.03   3338.20     122.95     203.87       88.25\n",
       "2       Inland-SardiniaInland-SardiniaInland-SardiniaI...   523   1089.12        94.81   221.66   7122.66   1172.60      26.55      71.71        1.90\n",
       "3       UmbriaUmbriaUmbriaUmbriaUmbriaUmbriaUmbriaUmbr...  1209   1653.15       126.44   348.51  11767.51   1097.82      32.90      56.74        2.98"
      ]
     },
     "execution_count": 52,
     "metadata": {},
     "output_type": "execute_result"
    }
   ],
   "source": [
    "# Aggregate the column percentages by summing them up over the regions\n",
    "def myfunc(column):\n",
    "    return np.sum(column)\n",
    "region_groupby.aggregate(myfunc)"
   ]
  },
  {
   "cell_type": "markdown",
   "metadata": {},
   "source": [
    "### One Dimensional Exploratory Data Analysis (EDA( with Pandas"
   ]
  },
  {
   "cell_type": "code",
   "execution_count": 53,
   "metadata": {
    "collapsed": false
   },
   "outputs": [
    {
     "data": {
      "text/plain": [
       "{1: 'South', 2: 'Sardinia', 3: 'North'}"
      ]
     },
     "execution_count": 53,
     "metadata": {},
     "output_type": "execute_result"
    }
   ],
   "source": [
    "rkeys=[1,2,3]\n",
    "rvals=['South','Sardinia','North']\n",
    "rmap={e[0]:e[1] for e in zip(rkeys,rvals)}\n",
    "rmap"
   ]
  },
  {
   "cell_type": "markdown",
   "metadata": {},
   "source": [
    "Let's get the dataframe with just the acids."
   ]
  },
  {
   "cell_type": "code",
   "execution_count": 54,
   "metadata": {
    "collapsed": false
   },
   "outputs": [
    {
     "data": {
      "text/html": [
       "<div>\n",
       "<table border=\"1\" class=\"dataframe\">\n",
       "  <thead>\n",
       "    <tr style=\"text-align: right;\">\n",
       "      <th></th>\n",
       "      <th>palmitic</th>\n",
       "      <th>palmitoleic</th>\n",
       "      <th>stearic</th>\n",
       "      <th>oleic</th>\n",
       "      <th>linoleic</th>\n",
       "      <th>linolenic</th>\n",
       "      <th>arachidic</th>\n",
       "      <th>eicosenoic</th>\n",
       "    </tr>\n",
       "    <tr>\n",
       "      <th>region</th>\n",
       "      <th></th>\n",
       "      <th></th>\n",
       "      <th></th>\n",
       "      <th></th>\n",
       "      <th></th>\n",
       "      <th></th>\n",
       "      <th></th>\n",
       "      <th></th>\n",
       "    </tr>\n",
       "  </thead>\n",
       "  <tbody>\n",
       "    <tr>\n",
       "      <th>1</th>\n",
       "      <td>13.322879</td>\n",
       "      <td>1.548019</td>\n",
       "      <td>2.287740</td>\n",
       "      <td>71.000093</td>\n",
       "      <td>10.334985</td>\n",
       "      <td>0.380650</td>\n",
       "      <td>0.631176</td>\n",
       "      <td>0.273220</td>\n",
       "    </tr>\n",
       "    <tr>\n",
       "      <th>2</th>\n",
       "      <td>11.113469</td>\n",
       "      <td>0.967449</td>\n",
       "      <td>2.261837</td>\n",
       "      <td>72.680204</td>\n",
       "      <td>11.965306</td>\n",
       "      <td>0.270918</td>\n",
       "      <td>0.731735</td>\n",
       "      <td>0.019388</td>\n",
       "    </tr>\n",
       "    <tr>\n",
       "      <th>3</th>\n",
       "      <td>10.948013</td>\n",
       "      <td>0.837351</td>\n",
       "      <td>2.308013</td>\n",
       "      <td>77.930530</td>\n",
       "      <td>7.270331</td>\n",
       "      <td>0.217881</td>\n",
       "      <td>0.375762</td>\n",
       "      <td>0.019735</td>\n",
       "    </tr>\n",
       "  </tbody>\n",
       "</table>\n",
       "</div>"
      ],
      "text/plain": [
       "         palmitic  palmitoleic   stearic      oleic   linoleic  linolenic  arachidic  eicosenoic\n",
       "region                                                                                          \n",
       "1       13.322879     1.548019  2.287740  71.000093  10.334985   0.380650   0.631176    0.273220\n",
       "2       11.113469     0.967449  2.261837  72.680204  11.965306   0.270918   0.731735    0.019388\n",
       "3       10.948013     0.837351  2.308013  77.930530   7.270331   0.217881   0.375762    0.019735"
      ]
     },
     "execution_count": 54,
     "metadata": {},
     "output_type": "execute_result"
    }
   ],
   "source": [
    "mdf2=df.groupby('region').aggregate(np.mean)\n",
    "mdf2=mdf2[acidlist]\n",
    "mdf2.head()"
   ]
  },
  {
   "cell_type": "code",
   "execution_count": 57,
   "metadata": {
    "collapsed": false
   },
   "outputs": [
    {
     "data": {
      "text/plain": [
       "(0, 100)"
      ]
     },
     "execution_count": 57,
     "metadata": {},
     "output_type": "execute_result"
    },
    {
     "data": {
      "image/png": "[encoded data removed]",
      "text/plain": [
       "<matplotlib.figure.Figure at 0x1133d3190>"
      ]
     },
     "metadata": {},
     "output_type": "display_data"
    }
   ],
   "source": [
    "# Make a bar plot of the relative mean percentage of the acids in pandas.\n",
    "ax =mdf2.plot(kind='barh',stacked=True)\n",
    "ax.set_yticklabels(rvals)\n",
    "ax.set_xlim([0,100])"
   ]
  },
  {
   "cell_type": "code",
   "execution_count": 61,
   "metadata": {
    "collapsed": false
   },
   "outputs": [
    {
     "data": {
      "image/png": "[encoded data removed]",
      "text/plain": [
       "<matplotlib.figure.Figure at 0x11797da10>"
      ]
     },
     "metadata": {},
     "output_type": "display_data"
    }
   ],
   "source": [
    "# For each acid, what's the distribution of regions?\n",
    "fig, axes = plt.subplots(figsize=(10,20),nrows=len(acidlist),ncols=1)\n",
    "i=0\n",
    "colors=[dark2_cmap.mpl_colormap(col) for col in [1.0,0.5,0.0]]\n",
    "for ax in axes.flatten():\n",
    "    acid=acidlist[i]\n",
    "    seriesacid=df[acid] #get the Pandas series\n",
    "    minmax=[seriesacid.min(),seriesacid.max()]\n",
    "    counts=[]\n",
    "    nbins=30\n",
    "    histbinslist=np.linspace(minmax[0],minmax[1],nbins)\n",
    "    counts=-np.diff([seriesacid[seriesacid>x].count() for x in histbinslist]).min()\n",
    "    for k,g in df.groupby('region'):\n",
    "        style={'histtype':'step','color':colors[k-1],'alpha':1.0,'bins':histbinslist,'label':rmap[k]}\n",
    "        ax.hist(g[acid],**style)\n",
    "        ax.set_xlim(minmax)\n",
    "        ax.set_title(acid)\n",
    "        ax.grid(False)\n",
    "    #construct legend\n",
    "    ax.set_ylim([0,counts])\n",
    "    ax.legend()\n",
    "    i=i+1\n",
    "fig.tight_layout()"
   ]
  },
  {
   "cell_type": "code",
   "execution_count": 63,
   "metadata": {
    "collapsed": false
   },
   "outputs": [
    {
     "data": {
      "text/plain": [
       "0      False\n",
       "1      False\n",
       "2      False\n",
       "3      False\n",
       "4      False\n",
       "5      False\n",
       "6      False\n",
       "7      False\n",
       "8      False\n",
       "9      False\n",
       "10     False\n",
       "11     False\n",
       "12     False\n",
       "13     False\n",
       "14     False\n",
       "15     False\n",
       "16     False\n",
       "17     False\n",
       "18     False\n",
       "19     False\n",
       "20     False\n",
       "21     False\n",
       "22     False\n",
       "23     False\n",
       "24     False\n",
       "25     False\n",
       "26     False\n",
       "27     False\n",
       "28     False\n",
       "29     False\n",
       "       ...  \n",
       "542     True\n",
       "543     True\n",
       "544     True\n",
       "545     True\n",
       "546     True\n",
       "547     True\n",
       "548     True\n",
       "549     True\n",
       "550     True\n",
       "551     True\n",
       "552     True\n",
       "553     True\n",
       "554     True\n",
       "555     True\n",
       "556     True\n",
       "557     True\n",
       "558     True\n",
       "559     True\n",
       "560     True\n",
       "561     True\n",
       "562     True\n",
       "563     True\n",
       "564     True\n",
       "565     True\n",
       "566     True\n",
       "567     True\n",
       "568     True\n",
       "569     True\n",
       "570     True\n",
       "571     True\n",
       "Name: eicosenoic, dtype: bool"
      ]
     },
     "execution_count": 63,
     "metadata": {},
     "output_type": "execute_result"
    }
   ],
   "source": [
    "mask = (df.eicosenoic<0.05)\n",
    "mask"
   ]
  },
  {
   "cell_type": "code",
   "execution_count": 64,
   "metadata": {
    "collapsed": false
   },
   "outputs": [
    {
     "data": {
      "text/plain": [
       "(249, 0.43531468531468531)"
      ]
     },
     "execution_count": 64,
     "metadata": {},
     "output_type": "execute_result"
    }
   ],
   "source": [
    "np.sum(mask),np.mean(mask)"
   ]
  },
  {
   "cell_type": "code",
   "execution_count": 65,
   "metadata": {
    "collapsed": false
   },
   "outputs": [
    {
     "data": {
      "text/html": [
       "<div>\n",
       "<table border=\"1\" class=\"dataframe\">\n",
       "  <thead>\n",
       "    <tr style=\"text-align: right;\">\n",
       "      <th>region</th>\n",
       "      <th>2</th>\n",
       "      <th>3</th>\n",
       "    </tr>\n",
       "    <tr>\n",
       "      <th>area</th>\n",
       "      <th></th>\n",
       "      <th></th>\n",
       "    </tr>\n",
       "  </thead>\n",
       "  <tbody>\n",
       "    <tr>\n",
       "      <th>5</th>\n",
       "      <td>19</td>\n",
       "      <td>0</td>\n",
       "    </tr>\n",
       "    <tr>\n",
       "      <th>6</th>\n",
       "      <td>11</td>\n",
       "      <td>0</td>\n",
       "    </tr>\n",
       "    <tr>\n",
       "      <th>7</th>\n",
       "      <td>0</td>\n",
       "      <td>17</td>\n",
       "    </tr>\n",
       "    <tr>\n",
       "      <th>8</th>\n",
       "      <td>0</td>\n",
       "      <td>11</td>\n",
       "    </tr>\n",
       "    <tr>\n",
       "      <th>9</th>\n",
       "      <td>0</td>\n",
       "      <td>14</td>\n",
       "    </tr>\n",
       "  </tbody>\n",
       "</table>\n",
       "</div>"
      ],
      "text/plain": [
       "region   2   3\n",
       "area          \n",
       "5       19   0\n",
       "6       11   0\n",
       "7        0  17\n",
       "8        0  11\n",
       "9        0  14"
      ]
     },
     "execution_count": 65,
     "metadata": {},
     "output_type": "execute_result"
    }
   ],
   "source": [
    "loweico=df[df.eicosenoic<0.02]\n",
    "pd.crosstab(loweico.area,loweico.region)"
   ]
  },
  {
   "cell_type": "markdown",
   "metadata": {},
   "source": [
    "You can see that oleic dominates, and doesnot let us see much about the other acids. Remove it and let's draw bar plots again."
   ]
  },
  {
   "cell_type": "code",
   "execution_count": 66,
   "metadata": {
    "collapsed": false
   },
   "outputs": [
    {
     "data": {
      "text/plain": [
       "[<matplotlib.text.Text at 0x117966b90>,\n",
       " <matplotlib.text.Text at 0x116b5ee50>,\n",
       " <matplotlib.text.Text at 0x116b26590>]"
      ]
     },
     "execution_count": 66,
     "metadata": {},
     "output_type": "execute_result"
    },
    {
     "data": {
      "image/png": "[encoded data removed]",
      "text/plain": [
       "<matplotlib.figure.Figure at 0x1146081d0>"
      ]
     },
     "metadata": {},
     "output_type": "display_data"
    }
   ],
   "source": [
    "acidlistminusoleic=['palmitic', 'palmitoleic', 'stearic', 'linoleic', 'linolenic', 'arachidic', 'eicosenoic']\n",
    "ax=region_groupby.aggregate(np.mean)[acidlistminusoleic].plot(kind='barh',stacked=True)\n",
    "ax.set_yticklabels(rvals)"
   ]
  },
  {
   "cell_type": "code",
   "execution_count": null,
   "metadata": {
    "collapsed": true
   },
   "outputs": [],
   "source": []
  }
 ],
 "metadata": {
  "kernelspec": {
   "display_name": "Python 2",
   "language": "python",
   "name": "python2"
  },
  "language_info": {
   "codemirror_mode": {
    "name": "ipython",
    "version": 2
   },
   "file_extension": ".py",
   "mimetype": "text/x-python",
   "name": "python",
   "nbconvert_exporter": "python",
   "pygments_lexer": "ipython2",
   "version": "2.7.11"
  }
 },
 "nbformat": 4,
 "nbformat_minor": 0
}
